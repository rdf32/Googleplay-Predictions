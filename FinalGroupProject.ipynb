{
 "cells": [
  {
   "cell_type": "markdown",
   "metadata": {},
   "source": [
    "<p style=\"font-family: Arial; font-size:3em;color:purple; font-style:bold\"><br>\n",
    "INFS 768 Group Project </p>\n",
    "<p style=\"font-family: Arial; font-size:2em; font-style:bold\">\n",
    "<br> Kyle Downs, Cara, Bracken, Rylie Fleckenstein<br><br> </p>\n",
    "<p style=\"font-family: Arial; font-size:1.5em; color:#2462C0; font-style:bold\">\n",
    "Building ML Models to Determine if an App is Free or not</p>\n",
    "\n",
    "## Predictions with the Google Play Data Set\n",
    "\n",
    "### Outline\n",
    "\n",
    "- Data Processing\n",
    "\n",
    "- Feature Selection\n",
    "\n",
    "- Hyperparameter tuning and model selection\n"
   ]
  },
  {
   "cell_type": "markdown",
   "metadata": {},
   "source": [
    "## Data Analysis\n",
    "\n",
    "### GooglePlay Data Set\n",
    "\n",
    "We are creating a model to predict the type of an App (whether it is free or requires payment). \n",
    "\n",
    "### About this dataset\n",
    "\n",
    "\"Context: While many public datasets (on Kaggle and the like) provide Apple App Store data, there are not many counterpart datasets available for Google Play Store apps anywhere on the web. On digging deeper, I found out that iTunes App Store page deploys a nicely indexed appendix-like structure to allow for simple and easy web scraping. On the other hand, Google Play Store uses sophisticated modern-day techniques (like dynamic page load) using JQuery making scraping more challenging.\"\n",
    "\n",
    "\"Acknowledgements: This information is scraped from the Google Play Store. This app information would not be available without it.\"\n",
    "\n",
    "The data set : https://www.kaggle.com/lava18/google-play-store-apps\n",
    "\n",
    "### Feature Information\n",
    "\n",
    "1) App - name of the application\n",
    "\n",
    "2) Category - category the application falls in\n",
    "\n",
    "3) Rating - the average rating given for the application\n",
    "\n",
    "4) Reviews - how many reviews have been written for the app\n",
    "\n",
    "5) Size - how large of a file it is in megabytes and kilobytes\n",
    "\n",
    "6) Installs - how many times the app has been installed\n",
    "\n",
    "7) Type - if the app is free of paid (target)\n",
    "\n",
    "8) Price - how much the app costs \n",
    "\n",
    "9) Content Rating - what age group the app is targeted for\n",
    "\n",
    "10) Genres - what genre the app falls in (similar to category)\n",
    "\n",
    "11) Last Updated - date of most recent update\n",
    "\n",
    "12) Current Ver - what version of the app the deveopers are currently on for IOS\n",
    "\n",
    "13) Android Ver - what version of the app the deveopers are currently on for Android"
   ]
  },
  {
   "cell_type": "code",
   "execution_count": 1,
   "metadata": {},
   "outputs": [],
   "source": [
    "import numpy as np \n",
    "import pandas as pd   \n",
    "import matplotlib.pyplot as plt\n",
    "import seaborn as sns\n",
    "\n",
    "from sklearn.model_selection import train_test_split\n",
    "from sklearn.neighbors import KNeighborsClassifier\n",
    "from sklearn.linear_model import LogisticRegression\n",
    "from sklearn.tree import DecisionTreeClassifier\n",
    "from sklearn.metrics import f1_score,confusion_matrix, accuracy_score, precision_score, recall_score\n",
    "from sklearn.feature_selection import RFE\n",
    "from sklearn.feature_selection import RFECV"
   ]
  },
  {
   "cell_type": "code",
   "execution_count": 2,
   "metadata": {},
   "outputs": [
    {
     "data": {
      "text/html": [
       "<div>\n",
       "<style scoped>\n",
       "    .dataframe tbody tr th:only-of-type {\n",
       "        vertical-align: middle;\n",
       "    }\n",
       "\n",
       "    .dataframe tbody tr th {\n",
       "        vertical-align: top;\n",
       "    }\n",
       "\n",
       "    .dataframe thead th {\n",
       "        text-align: right;\n",
       "    }\n",
       "</style>\n",
       "<table border=\"1\" class=\"dataframe\">\n",
       "  <thead>\n",
       "    <tr style=\"text-align: right;\">\n",
       "      <th></th>\n",
       "      <th>App</th>\n",
       "      <th>Category</th>\n",
       "      <th>Rating</th>\n",
       "      <th>Reviews</th>\n",
       "      <th>Size</th>\n",
       "      <th>Installs</th>\n",
       "      <th>Type</th>\n",
       "      <th>Price</th>\n",
       "      <th>Content Rating</th>\n",
       "      <th>Genres</th>\n",
       "      <th>Last Updated</th>\n",
       "      <th>Current Ver</th>\n",
       "      <th>Android Ver</th>\n",
       "    </tr>\n",
       "  </thead>\n",
       "  <tbody>\n",
       "    <tr>\n",
       "      <th>0</th>\n",
       "      <td>Photo Editor &amp; Candy Camera &amp; Grid &amp; ScrapBook</td>\n",
       "      <td>ART_AND_DESIGN</td>\n",
       "      <td>4.1</td>\n",
       "      <td>159</td>\n",
       "      <td>19M</td>\n",
       "      <td>10,000+</td>\n",
       "      <td>Free</td>\n",
       "      <td>0</td>\n",
       "      <td>Everyone</td>\n",
       "      <td>Art &amp; Design</td>\n",
       "      <td>January 7, 2018</td>\n",
       "      <td>1.0.0</td>\n",
       "      <td>4.0.3 and up</td>\n",
       "    </tr>\n",
       "    <tr>\n",
       "      <th>1</th>\n",
       "      <td>Coloring book moana</td>\n",
       "      <td>ART_AND_DESIGN</td>\n",
       "      <td>3.9</td>\n",
       "      <td>967</td>\n",
       "      <td>14M</td>\n",
       "      <td>500,000+</td>\n",
       "      <td>Free</td>\n",
       "      <td>0</td>\n",
       "      <td>Everyone</td>\n",
       "      <td>Art &amp; Design;Pretend Play</td>\n",
       "      <td>January 15, 2018</td>\n",
       "      <td>2.0.0</td>\n",
       "      <td>4.0.3 and up</td>\n",
       "    </tr>\n",
       "    <tr>\n",
       "      <th>2</th>\n",
       "      <td>U Launcher Lite – FREE Live Cool Themes, Hide ...</td>\n",
       "      <td>ART_AND_DESIGN</td>\n",
       "      <td>4.7</td>\n",
       "      <td>87510</td>\n",
       "      <td>8.7M</td>\n",
       "      <td>5,000,000+</td>\n",
       "      <td>Free</td>\n",
       "      <td>0</td>\n",
       "      <td>Everyone</td>\n",
       "      <td>Art &amp; Design</td>\n",
       "      <td>August 1, 2018</td>\n",
       "      <td>1.2.4</td>\n",
       "      <td>4.0.3 and up</td>\n",
       "    </tr>\n",
       "    <tr>\n",
       "      <th>3</th>\n",
       "      <td>Sketch - Draw &amp; Paint</td>\n",
       "      <td>ART_AND_DESIGN</td>\n",
       "      <td>4.5</td>\n",
       "      <td>215644</td>\n",
       "      <td>25M</td>\n",
       "      <td>50,000,000+</td>\n",
       "      <td>Free</td>\n",
       "      <td>0</td>\n",
       "      <td>Teen</td>\n",
       "      <td>Art &amp; Design</td>\n",
       "      <td>June 8, 2018</td>\n",
       "      <td>Varies with device</td>\n",
       "      <td>4.2 and up</td>\n",
       "    </tr>\n",
       "    <tr>\n",
       "      <th>4</th>\n",
       "      <td>Pixel Draw - Number Art Coloring Book</td>\n",
       "      <td>ART_AND_DESIGN</td>\n",
       "      <td>4.3</td>\n",
       "      <td>967</td>\n",
       "      <td>2.8M</td>\n",
       "      <td>100,000+</td>\n",
       "      <td>Free</td>\n",
       "      <td>0</td>\n",
       "      <td>Everyone</td>\n",
       "      <td>Art &amp; Design;Creativity</td>\n",
       "      <td>June 20, 2018</td>\n",
       "      <td>1.1</td>\n",
       "      <td>4.4 and up</td>\n",
       "    </tr>\n",
       "  </tbody>\n",
       "</table>\n",
       "</div>"
      ],
      "text/plain": [
       "                                                 App        Category  Rating  \\\n",
       "0     Photo Editor & Candy Camera & Grid & ScrapBook  ART_AND_DESIGN     4.1   \n",
       "1                                Coloring book moana  ART_AND_DESIGN     3.9   \n",
       "2  U Launcher Lite – FREE Live Cool Themes, Hide ...  ART_AND_DESIGN     4.7   \n",
       "3                              Sketch - Draw & Paint  ART_AND_DESIGN     4.5   \n",
       "4              Pixel Draw - Number Art Coloring Book  ART_AND_DESIGN     4.3   \n",
       "\n",
       "  Reviews  Size     Installs  Type Price Content Rating  \\\n",
       "0     159   19M      10,000+  Free     0       Everyone   \n",
       "1     967   14M     500,000+  Free     0       Everyone   \n",
       "2   87510  8.7M   5,000,000+  Free     0       Everyone   \n",
       "3  215644   25M  50,000,000+  Free     0           Teen   \n",
       "4     967  2.8M     100,000+  Free     0       Everyone   \n",
       "\n",
       "                      Genres      Last Updated         Current Ver  \\\n",
       "0               Art & Design   January 7, 2018               1.0.0   \n",
       "1  Art & Design;Pretend Play  January 15, 2018               2.0.0   \n",
       "2               Art & Design    August 1, 2018               1.2.4   \n",
       "3               Art & Design      June 8, 2018  Varies with device   \n",
       "4    Art & Design;Creativity     June 20, 2018                 1.1   \n",
       "\n",
       "    Android Ver  \n",
       "0  4.0.3 and up  \n",
       "1  4.0.3 and up  \n",
       "2  4.0.3 and up  \n",
       "3    4.2 and up  \n",
       "4    4.4 and up  "
      ]
     },
     "execution_count": 2,
     "metadata": {},
     "output_type": "execute_result"
    }
   ],
   "source": [
    "# Load google play csv file into pandas dataframe\n",
    "gp_dat = pd.read_csv(\"googleplaystore.csv\")\n",
    "gp_dat.head()"
   ]
  },
  {
   "cell_type": "markdown",
   "metadata": {},
   "source": [
    "## Data Preprocessing\n"
   ]
  },
  {
   "cell_type": "markdown",
   "metadata": {},
   "source": [
    "The below code prints description of all categorical attributes. We used this in the preprocessing stage to take a look and see what we were working with in order gain an understanding of the nature of all of the categorical variables. I commented out this block of code to save space in the final document but it is still here for use whenever it is needed."
   ]
  },
  {
   "cell_type": "code",
   "execution_count": 3,
   "metadata": {},
   "outputs": [],
   "source": [
    "# description of every categorical attribute\n",
    "# Rylie's code\n",
    "#df_ = gp_dat.select_dtypes(exclude=['int64', 'float64'])\n",
    "#for col in df_.columns:\n",
    "    #print(df_[col].unique()) # to print categories name only\n",
    "    #print(df_[col].value_counts()) # to print count of every category"
   ]
  },
  {
   "cell_type": "markdown",
   "metadata": {},
   "source": [
    "### Missing Values\n",
    "\n",
    "The first step is to take a look and see if we have any missing values in the data set that need to be taken care of. We can see that \"Rating\" is missing 1474 observations and then \"Content Rating\", \"Type\", \"Current Ver\" and \"Android Ver\" are all missing just a few observations. We decided to go ahead and drop the observations that had only a few missing values and decided to replace all of the missing values in \"Rating\" with the mean of \"Rating\"."
   ]
  },
  {
   "cell_type": "code",
   "execution_count": 4,
   "metadata": {},
   "outputs": [
    {
     "data": {
      "text/plain": [
       "App                  0\n",
       "Category             0\n",
       "Rating            1474\n",
       "Reviews              0\n",
       "Size                 0\n",
       "Installs             0\n",
       "Type                 1\n",
       "Price                0\n",
       "Content Rating       1\n",
       "Genres               0\n",
       "Last Updated         0\n",
       "Current Ver          8\n",
       "Android Ver          3\n",
       "dtype: int64"
      ]
     },
     "execution_count": 4,
     "metadata": {},
     "output_type": "execute_result"
    }
   ],
   "source": [
    "gp_dat.isnull().sum()"
   ]
  },
  {
   "cell_type": "code",
   "execution_count": 5,
   "metadata": {},
   "outputs": [],
   "source": [
    "# Kyle's code\n",
    "gp_dat = gp_dat.dropna(subset = ['Content Rating','Type', 'Current Ver', 'Android Ver'])"
   ]
  },
  {
   "cell_type": "markdown",
   "metadata": {},
   "source": [
    "Whenever the decision is made to replace a missing value with some other value, it is important to indicate that the replacement. This is because even though we are taking the mean of the variable in question, this value is more than likely wrong. We have no way of knowing what the actual value would be, but instead use the mean of the variable to ensure we do not change its distribution. Below we create a missing value indicator for the \"Rating\" attribute."
   ]
  },
  {
   "cell_type": "code",
   "execution_count": 6,
   "metadata": {},
   "outputs": [
    {
     "data": {
      "text/plain": [
       "0    9360\n",
       "1    1469\n",
       "Name: Rating_Miss_Ind, dtype: int64"
      ]
     },
     "execution_count": 6,
     "metadata": {},
     "output_type": "execute_result"
    }
   ],
   "source": [
    "# create new variable (missing value indicator for Rating)\n",
    "# Rylie's code\n",
    "gp_dat['Rating_Miss_Ind']=np.select([gp_dat.Rating.isnull()],[1])\n",
    "gp_dat.Rating_Miss_Ind.value_counts()"
   ]
  },
  {
   "cell_type": "markdown",
   "metadata": {},
   "source": [
    "Replacing the missing values with the mean"
   ]
  },
  {
   "cell_type": "code",
   "execution_count": 7,
   "metadata": {},
   "outputs": [],
   "source": [
    "# Replace NaN values for Rating with the mean of Rating\n",
    "# Kyle's code\n",
    "gp_dat['Rating'] = gp_dat['Rating'].fillna(gp_dat['Rating'].mean())"
   ]
  },
  {
   "cell_type": "markdown",
   "metadata": {},
   "source": [
    "Changing the data type of the \"Rating\" attribute to \"int64\" so it can be used in our ML models."
   ]
  },
  {
   "cell_type": "code",
   "execution_count": 8,
   "metadata": {},
   "outputs": [],
   "source": [
    "# Kyle's code\n",
    "gp_dat['Reviews'] = gp_dat['Reviews'].astype('int64')"
   ]
  },
  {
   "cell_type": "markdown",
   "metadata": {},
   "source": [
    "Checking to make sure we have taken care of all missing values"
   ]
  },
  {
   "cell_type": "code",
   "execution_count": 9,
   "metadata": {},
   "outputs": [
    {
     "data": {
      "text/plain": [
       "App                0\n",
       "Category           0\n",
       "Rating             0\n",
       "Reviews            0\n",
       "Size               0\n",
       "Installs           0\n",
       "Type               0\n",
       "Price              0\n",
       "Content Rating     0\n",
       "Genres             0\n",
       "Last Updated       0\n",
       "Current Ver        0\n",
       "Android Ver        0\n",
       "Rating_Miss_Ind    0\n",
       "dtype: int64"
      ]
     },
     "execution_count": 9,
     "metadata": {},
     "output_type": "execute_result"
    }
   ],
   "source": [
    "gp_dat.isnull().sum()"
   ]
  },
  {
   "cell_type": "markdown",
   "metadata": {},
   "source": [
    "## Attribute tansformations\n",
    "\n",
    "Most of the variables in this dataset are not ready to be ran through a ML algorithm and must be converted and processed so we can build a succesfful model"
   ]
  },
  {
   "cell_type": "markdown",
   "metadata": {},
   "source": [
    "### \"Type\"\n",
    "Here we are changing the binary variable \"Type\" to numbers Free:0, and Paid:1."
   ]
  },
  {
   "cell_type": "code",
   "execution_count": 10,
   "metadata": {},
   "outputs": [],
   "source": [
    "# changing TYPE to 0 if free and 1 if paid\n",
    "# Rylie's code\n",
    "gp_dat['Type'] = gp_dat['Type'].replace({'Free': 0, 'Paid': 1}, regex=True).astype(float)\n"
   ]
  },
  {
   "cell_type": "markdown",
   "metadata": {},
   "source": [
    "### \"Price\"\n",
    "\n",
    "Here we stripped the \"Price\" variable of all special characters and then converted it to data type \"float\""
   ]
  },
  {
   "cell_type": "code",
   "execution_count": 11,
   "metadata": {},
   "outputs": [],
   "source": [
    "# changing currency to integer in PRICE\n",
    "gp_dat['Price'] = gp_dat['Price'].replace({'\\$': '', ',': ''}, regex=True).astype(float)"
   ]
  },
  {
   "cell_type": "markdown",
   "metadata": {},
   "source": [
    "### \"Size\"\n",
    "\n",
    "Dealing with the \"Size\" attribute was tricky. There are instances that are in Megabytes indicated by an \"M\" at the end of the value and also instances in kilobytes indicated by a \"k\", instances that have decimals in them and instances labeled as \"varies with device\". The original data type of this variable is also a string so coming up with a clear solution to convert all instances to the same scale (Megabytes) and remove all special characters was not particularly straight forward.\n",
    "\n",
    "Rylie decided to create a kilobyte indicator column so that he could remove the special characters from each instance and transform each instance into integers. Then he was able to divide all of the instances of the \"Size\" variable that had the kilobyte indicator by 1000 so that all of the sizes were in Megabytes. Then he set all instances of \"varies with device\" to NaN and replaced them with the mean."
   ]
  },
  {
   "cell_type": "code",
   "execution_count": 12,
   "metadata": {},
   "outputs": [],
   "source": [
    "# setting indicator for Kilobytes\n",
    "gp_dat['Size_K']=np.select([gp_dat.Size.str.contains('k')],[1])"
   ]
  },
  {
   "cell_type": "code",
   "execution_count": 13,
   "metadata": {},
   "outputs": [
    {
     "data": {
      "text/plain": [
       "0    10517\n",
       "1      312\n",
       "Name: Size_K, dtype: int64"
      ]
     },
     "execution_count": 13,
     "metadata": {},
     "output_type": "execute_result"
    }
   ],
   "source": [
    "gp_dat['Size_K'].value_counts()"
   ]
  },
  {
   "cell_type": "code",
   "execution_count": 14,
   "metadata": {},
   "outputs": [],
   "source": [
    "# set 'Varies with device' as NA and removing all special characters\n",
    "gp_dat['Size'] = gp_dat['Size'].replace({'Varies with device': np.NaN, 'M' : '', 'k': ''}, regex=True).astype(float)"
   ]
  },
  {
   "cell_type": "code",
   "execution_count": 15,
   "metadata": {},
   "outputs": [
    {
     "data": {
      "text/plain": [
       "0    9135\n",
       "1    1694\n",
       "Name: Size_Varies_Ind, dtype: int64"
      ]
     },
     "execution_count": 15,
     "metadata": {},
     "output_type": "execute_result"
    }
   ],
   "source": [
    "# Varies with device value indicator for SIZE\n",
    "gp_dat['Size_Varies_Ind']=np.select([gp_dat.Size.isnull()],[1])\n",
    "gp_dat.Size_Varies_Ind.value_counts()"
   ]
  },
  {
   "cell_type": "code",
   "execution_count": 16,
   "metadata": {},
   "outputs": [],
   "source": [
    "# converting all Kilobyte instances to Megaabytes\n",
    "gp_dat.loc[gp_dat['Size_K'] == 1, 'Size'] = gp_dat['Size']/1000"
   ]
  },
  {
   "cell_type": "code",
   "execution_count": 17,
   "metadata": {},
   "outputs": [],
   "source": [
    "# Replacing all \"Varies with Device\" with mean in Megaabytes\n",
    "gp_dat['Size'] = gp_dat['Size'].fillna(gp_dat['Size'].mean())"
   ]
  },
  {
   "cell_type": "code",
   "execution_count": 18,
   "metadata": {},
   "outputs": [],
   "source": [
    "# dropping kilobyte indicator\n",
    "gp_dat = gp_dat.drop(['Size_K'], axis=1)"
   ]
  },
  {
   "cell_type": "code",
   "execution_count": 19,
   "metadata": {},
   "outputs": [
    {
     "data": {
      "text/plain": [
       "count    10829.000000\n",
       "mean        21.534957\n",
       "std         20.751190\n",
       "min          0.008500\n",
       "25%          5.900000\n",
       "50%         18.000000\n",
       "75%         26.000000\n",
       "max        100.000000\n",
       "Name: Size, dtype: float64"
      ]
     },
     "execution_count": 19,
     "metadata": {},
     "output_type": "execute_result"
    }
   ],
   "source": [
    "gp_dat.Size.describe()"
   ]
  },
  {
   "cell_type": "markdown",
   "metadata": {},
   "source": [
    "### \"Installs\"\n",
    "\n",
    "Here we stripped all instances of special characters and changed the data type to float."
   ]
  },
  {
   "cell_type": "code",
   "execution_count": 20,
   "metadata": {},
   "outputs": [],
   "source": [
    "gp_dat['Installs'] = gp_dat['Installs'].map(lambda x: x.rstrip('+-'))"
   ]
  },
  {
   "cell_type": "code",
   "execution_count": 21,
   "metadata": {},
   "outputs": [],
   "source": [
    "gp_dat['Installs'] = gp_dat['Installs'].replace({',': ''}, regex=True).astype(float)"
   ]
  },
  {
   "cell_type": "markdown",
   "metadata": {},
   "source": [
    "### \"Last Updated\"\n",
    "\n",
    "Here we decided to drop the specific day the update took place and only keep the year the app was updated. This was done using the thought process that we could then categorize our apps by what year they were updated, making \"Last Updated\" a categorical variable."
   ]
  },
  {
   "cell_type": "code",
   "execution_count": 22,
   "metadata": {},
   "outputs": [],
   "source": [
    "# changing last updated to just the year for grouping\n",
    "gp_dat['Last Updated'] = gp_dat['Last Updated'].apply(lambda x: x[-4:])\n"
   ]
  },
  {
   "cell_type": "code",
   "execution_count": 23,
   "metadata": {},
   "outputs": [],
   "source": [
    "gp_dat['Last Updated'] = gp_dat['Last Updated'].astype(float)"
   ]
  },
  {
   "cell_type": "markdown",
   "metadata": {},
   "source": [
    "### Dummy Encoding\n",
    "\n",
    "Here we use the get_dummies() function to dummy encode all of our categorical variables which are the following: [\"Category\",\"Last Updated\", \"Content Rating\"].\n"
   ]
  },
  {
   "cell_type": "code",
   "execution_count": 24,
   "metadata": {},
   "outputs": [],
   "source": [
    "# generate binary values using get_dummies\n",
    "gp_dat = pd.get_dummies(gp_dat, columns=[\"Category\",\"Last Updated\", \"Content Rating\"])"
   ]
  },
  {
   "cell_type": "code",
   "execution_count": 25,
   "metadata": {},
   "outputs": [
    {
     "data": {
      "text/html": [
       "<div>\n",
       "<style scoped>\n",
       "    .dataframe tbody tr th:only-of-type {\n",
       "        vertical-align: middle;\n",
       "    }\n",
       "\n",
       "    .dataframe tbody tr th {\n",
       "        vertical-align: top;\n",
       "    }\n",
       "\n",
       "    .dataframe thead th {\n",
       "        text-align: right;\n",
       "    }\n",
       "</style>\n",
       "<table border=\"1\" class=\"dataframe\">\n",
       "  <thead>\n",
       "    <tr style=\"text-align: right;\">\n",
       "      <th></th>\n",
       "      <th>App</th>\n",
       "      <th>Rating</th>\n",
       "      <th>Reviews</th>\n",
       "      <th>Size</th>\n",
       "      <th>Installs</th>\n",
       "      <th>Type</th>\n",
       "      <th>Price</th>\n",
       "      <th>Genres</th>\n",
       "      <th>Current Ver</th>\n",
       "      <th>Android Ver</th>\n",
       "      <th>...</th>\n",
       "      <th>Last Updated_2015.0</th>\n",
       "      <th>Last Updated_2016.0</th>\n",
       "      <th>Last Updated_2017.0</th>\n",
       "      <th>Last Updated_2018.0</th>\n",
       "      <th>Content Rating_Adults only 18+</th>\n",
       "      <th>Content Rating_Everyone</th>\n",
       "      <th>Content Rating_Everyone 10+</th>\n",
       "      <th>Content Rating_Mature 17+</th>\n",
       "      <th>Content Rating_Teen</th>\n",
       "      <th>Content Rating_Unrated</th>\n",
       "    </tr>\n",
       "  </thead>\n",
       "  <tbody>\n",
       "    <tr>\n",
       "      <th>0</th>\n",
       "      <td>Photo Editor &amp; Candy Camera &amp; Grid &amp; ScrapBook</td>\n",
       "      <td>4.1</td>\n",
       "      <td>159</td>\n",
       "      <td>19.0</td>\n",
       "      <td>10000.0</td>\n",
       "      <td>0.0</td>\n",
       "      <td>0.0</td>\n",
       "      <td>Art &amp; Design</td>\n",
       "      <td>1.0.0</td>\n",
       "      <td>4.0.3 and up</td>\n",
       "      <td>...</td>\n",
       "      <td>0</td>\n",
       "      <td>0</td>\n",
       "      <td>0</td>\n",
       "      <td>1</td>\n",
       "      <td>0</td>\n",
       "      <td>1</td>\n",
       "      <td>0</td>\n",
       "      <td>0</td>\n",
       "      <td>0</td>\n",
       "      <td>0</td>\n",
       "    </tr>\n",
       "    <tr>\n",
       "      <th>1</th>\n",
       "      <td>Coloring book moana</td>\n",
       "      <td>3.9</td>\n",
       "      <td>967</td>\n",
       "      <td>14.0</td>\n",
       "      <td>500000.0</td>\n",
       "      <td>0.0</td>\n",
       "      <td>0.0</td>\n",
       "      <td>Art &amp; Design;Pretend Play</td>\n",
       "      <td>2.0.0</td>\n",
       "      <td>4.0.3 and up</td>\n",
       "      <td>...</td>\n",
       "      <td>0</td>\n",
       "      <td>0</td>\n",
       "      <td>0</td>\n",
       "      <td>1</td>\n",
       "      <td>0</td>\n",
       "      <td>1</td>\n",
       "      <td>0</td>\n",
       "      <td>0</td>\n",
       "      <td>0</td>\n",
       "      <td>0</td>\n",
       "    </tr>\n",
       "    <tr>\n",
       "      <th>2</th>\n",
       "      <td>U Launcher Lite – FREE Live Cool Themes, Hide ...</td>\n",
       "      <td>4.7</td>\n",
       "      <td>87510</td>\n",
       "      <td>8.7</td>\n",
       "      <td>5000000.0</td>\n",
       "      <td>0.0</td>\n",
       "      <td>0.0</td>\n",
       "      <td>Art &amp; Design</td>\n",
       "      <td>1.2.4</td>\n",
       "      <td>4.0.3 and up</td>\n",
       "      <td>...</td>\n",
       "      <td>0</td>\n",
       "      <td>0</td>\n",
       "      <td>0</td>\n",
       "      <td>1</td>\n",
       "      <td>0</td>\n",
       "      <td>1</td>\n",
       "      <td>0</td>\n",
       "      <td>0</td>\n",
       "      <td>0</td>\n",
       "      <td>0</td>\n",
       "    </tr>\n",
       "    <tr>\n",
       "      <th>3</th>\n",
       "      <td>Sketch - Draw &amp; Paint</td>\n",
       "      <td>4.5</td>\n",
       "      <td>215644</td>\n",
       "      <td>25.0</td>\n",
       "      <td>50000000.0</td>\n",
       "      <td>0.0</td>\n",
       "      <td>0.0</td>\n",
       "      <td>Art &amp; Design</td>\n",
       "      <td>Varies with device</td>\n",
       "      <td>4.2 and up</td>\n",
       "      <td>...</td>\n",
       "      <td>0</td>\n",
       "      <td>0</td>\n",
       "      <td>0</td>\n",
       "      <td>1</td>\n",
       "      <td>0</td>\n",
       "      <td>0</td>\n",
       "      <td>0</td>\n",
       "      <td>0</td>\n",
       "      <td>1</td>\n",
       "      <td>0</td>\n",
       "    </tr>\n",
       "    <tr>\n",
       "      <th>4</th>\n",
       "      <td>Pixel Draw - Number Art Coloring Book</td>\n",
       "      <td>4.3</td>\n",
       "      <td>967</td>\n",
       "      <td>2.8</td>\n",
       "      <td>100000.0</td>\n",
       "      <td>0.0</td>\n",
       "      <td>0.0</td>\n",
       "      <td>Art &amp; Design;Creativity</td>\n",
       "      <td>1.1</td>\n",
       "      <td>4.4 and up</td>\n",
       "      <td>...</td>\n",
       "      <td>0</td>\n",
       "      <td>0</td>\n",
       "      <td>0</td>\n",
       "      <td>1</td>\n",
       "      <td>0</td>\n",
       "      <td>1</td>\n",
       "      <td>0</td>\n",
       "      <td>0</td>\n",
       "      <td>0</td>\n",
       "      <td>0</td>\n",
       "    </tr>\n",
       "  </tbody>\n",
       "</table>\n",
       "<p>5 rows × 60 columns</p>\n",
       "</div>"
      ],
      "text/plain": [
       "                                                 App  Rating  Reviews  Size  \\\n",
       "0     Photo Editor & Candy Camera & Grid & ScrapBook     4.1      159  19.0   \n",
       "1                                Coloring book moana     3.9      967  14.0   \n",
       "2  U Launcher Lite – FREE Live Cool Themes, Hide ...     4.7    87510   8.7   \n",
       "3                              Sketch - Draw & Paint     4.5   215644  25.0   \n",
       "4              Pixel Draw - Number Art Coloring Book     4.3      967   2.8   \n",
       "\n",
       "     Installs  Type  Price                     Genres         Current Ver  \\\n",
       "0     10000.0   0.0    0.0               Art & Design               1.0.0   \n",
       "1    500000.0   0.0    0.0  Art & Design;Pretend Play               2.0.0   \n",
       "2   5000000.0   0.0    0.0               Art & Design               1.2.4   \n",
       "3  50000000.0   0.0    0.0               Art & Design  Varies with device   \n",
       "4    100000.0   0.0    0.0    Art & Design;Creativity                 1.1   \n",
       "\n",
       "    Android Ver  ...  Last Updated_2015.0  Last Updated_2016.0  \\\n",
       "0  4.0.3 and up  ...                    0                    0   \n",
       "1  4.0.3 and up  ...                    0                    0   \n",
       "2  4.0.3 and up  ...                    0                    0   \n",
       "3    4.2 and up  ...                    0                    0   \n",
       "4    4.4 and up  ...                    0                    0   \n",
       "\n",
       "   Last Updated_2017.0  Last Updated_2018.0  Content Rating_Adults only 18+  \\\n",
       "0                    0                    1                               0   \n",
       "1                    0                    1                               0   \n",
       "2                    0                    1                               0   \n",
       "3                    0                    1                               0   \n",
       "4                    0                    1                               0   \n",
       "\n",
       "   Content Rating_Everyone  Content Rating_Everyone 10+  \\\n",
       "0                        1                            0   \n",
       "1                        1                            0   \n",
       "2                        1                            0   \n",
       "3                        0                            0   \n",
       "4                        1                            0   \n",
       "\n",
       "   Content Rating_Mature 17+  Content Rating_Teen  Content Rating_Unrated  \n",
       "0                          0                    0                       0  \n",
       "1                          0                    0                       0  \n",
       "2                          0                    0                       0  \n",
       "3                          0                    1                       0  \n",
       "4                          0                    0                       0  \n",
       "\n",
       "[5 rows x 60 columns]"
      ]
     },
     "execution_count": 25,
     "metadata": {},
     "output_type": "execute_result"
    }
   ],
   "source": [
    "gp_dat.head()"
   ]
  },
  {
   "cell_type": "markdown",
   "metadata": {},
   "source": [
    "### Feature Selection"
   ]
  },
  {
   "cell_type": "markdown",
   "metadata": {},
   "source": [
    "Drop the \"Price\" variable because it is positively coorelated with the target variable \"Type\". The variable \"Type\" is actually derived from the \"Price\" variable. Also, we drop the \"Genres\" model because it is positively correlated to the \"Category\" variable. Lastly, we drop the \"App\", \"Android Ver\", and \"Genres\" variables because they are not variable because the name of the application is not relevant or needed in the ML model as well as what version they are on."
   ]
  },
  {
   "cell_type": "code",
   "execution_count": 26,
   "metadata": {},
   "outputs": [],
   "source": [
    "gp_dat = gp_dat.drop(['App', 'Current Ver', 'Android Ver', 'Genres'], axis=1)"
   ]
  },
  {
   "cell_type": "code",
   "execution_count": 27,
   "metadata": {},
   "outputs": [],
   "source": [
    "gp_dat = gp_dat.drop(['Price'], axis=1)"
   ]
  },
  {
   "cell_type": "markdown",
   "metadata": {},
   "source": [
    "## Random Sampling/ Known Sampling"
   ]
  },
  {
   "cell_type": "markdown",
   "metadata": {},
   "source": [
    "The intial approach to dealing with this unbalanced classification problem was to take a random sample of the instances where the app was of \"Type\" Free so that the classes of the target variable were equal and not skewed. Skewed classes in the target variable do not perform well in machine learning algorithms. This approach seemed to work alright but we ended up changing it after some experimentation. We started to experiment with known sampling and settled on using the first 800 observations of the FREE class in the target variable because we were able to produce models that performed extremely well."
   ]
  },
  {
   "cell_type": "code",
   "execution_count": 28,
   "metadata": {},
   "outputs": [
    {
     "data": {
      "text/plain": [
       "0.0    10032\n",
       "1.0      797\n",
       "Name: Type, dtype: int64"
      ]
     },
     "execution_count": 28,
     "metadata": {},
     "output_type": "execute_result"
    }
   ],
   "source": [
    "gp_dat['Type'].value_counts()"
   ]
  },
  {
   "cell_type": "markdown",
   "metadata": {},
   "source": [
    "Subsetting the data set based on the class of the target variable \"Type\""
   ]
  },
  {
   "cell_type": "code",
   "execution_count": 29,
   "metadata": {},
   "outputs": [],
   "source": [
    "gp_dat_paid = gp_dat[gp_dat['Type'] == 1]\n",
    "gp_dat_free = gp_dat[gp_dat['Type'] == 0]"
   ]
  },
  {
   "cell_type": "code",
   "execution_count": 30,
   "metadata": {},
   "outputs": [
    {
     "data": {
      "text/plain": [
       "(797, 55)"
      ]
     },
     "execution_count": 30,
     "metadata": {},
     "output_type": "execute_result"
    }
   ],
   "source": [
    "gp_dat_paid.shape"
   ]
  },
  {
   "cell_type": "code",
   "execution_count": 31,
   "metadata": {},
   "outputs": [
    {
     "data": {
      "text/plain": [
       "(10032, 55)"
      ]
     },
     "execution_count": 31,
     "metadata": {},
     "output_type": "execute_result"
    }
   ],
   "source": [
    "gp_dat_free.shape"
   ]
  },
  {
   "cell_type": "markdown",
   "metadata": {},
   "source": [
    "Using the first 800 observations of the FREE subset for use in our final data set"
   ]
  },
  {
   "cell_type": "code",
   "execution_count": 32,
   "metadata": {},
   "outputs": [
    {
     "data": {
      "text/plain": [
       "(800, 55)"
      ]
     },
     "execution_count": 32,
     "metadata": {},
     "output_type": "execute_result"
    }
   ],
   "source": [
    "#gp_dat_free_f = gp_dat_free.sample(800, random_state=5)\n",
    "gp_dat_free_f = gp_dat_free[:800]\n",
    "gp_dat_free_f.shape"
   ]
  },
  {
   "cell_type": "code",
   "execution_count": 33,
   "metadata": {},
   "outputs": [],
   "source": [
    "gp_dat2 = pd.concat([gp_dat_paid, gp_dat_free_f])"
   ]
  },
  {
   "cell_type": "markdown",
   "metadata": {},
   "source": [
    "Showing the counts of the classes in the target variable"
   ]
  },
  {
   "cell_type": "code",
   "execution_count": 34,
   "metadata": {},
   "outputs": [],
   "source": [
    "# y includes our labels and x includes our features\n",
    "dlist = ['Type']\n",
    "x1 = gp_dat.drop(dlist, axis=1)\n",
    "y1 = gp_dat['Type']"
   ]
  },
  {
   "cell_type": "code",
   "execution_count": 35,
   "metadata": {},
   "outputs": [],
   "source": [
    "#actual learning data set where equal target values\n",
    "dlist = ['Type']\n",
    "x = gp_dat2.drop(dlist, axis=1)\n",
    "y = gp_dat2['Type']"
   ]
  },
  {
   "cell_type": "markdown",
   "metadata": {},
   "source": [
    "The original dataset class distribution"
   ]
  },
  {
   "cell_type": "code",
   "execution_count": 36,
   "metadata": {},
   "outputs": [
    {
     "name": "stdout",
     "output_type": "stream",
     "text": [
      "Number of Paid:  797\n",
      "Number of Free:  10032\n"
     ]
    },
    {
     "data": {
      "image/png": "[encoded data removed]",
      "text/plain": [
       "<Figure size 432x288 with 1 Axes>"
      ]
     },
     "metadata": {
      "needs_background": "light"
     },
     "output_type": "display_data"
    }
   ],
   "source": [
    "# class break down of the target attribute in the full dataset\n",
    "ax = sns.countplot(y1,label=\"Count\")       \n",
    "F, P = y1.value_counts()                   # 0 if Free 1 if paid\n",
    "print('Number of Paid: ',P)\n",
    "print('Number of Free: ',F)"
   ]
  },
  {
   "cell_type": "markdown",
   "metadata": {},
   "source": [
    "The class distribution of the data set we used for building our models"
   ]
  },
  {
   "cell_type": "code",
   "execution_count": 37,
   "metadata": {},
   "outputs": [
    {
     "name": "stdout",
     "output_type": "stream",
     "text": [
      "Number of Paid:  797\n",
      "Number of Free:  800\n"
     ]
    },
    {
     "data": {
      "image/png": "[encoded data removed]",
      "text/plain": [
       "<Figure size 432x288 with 1 Axes>"
      ]
     },
     "metadata": {
      "needs_background": "light"
     },
     "output_type": "display_data"
    }
   ],
   "source": [
    "# class break down of the target attribute in the subset used for the predictions\n",
    "ax = sns.countplot(y,label=\"Count\")       \n",
    "F, P = y.value_counts()                   # 0 if Free 1 if paid\n",
    "print('Number of Paid: ',P)\n",
    "print('Number of Free: ',F)"
   ]
  },
  {
   "cell_type": "markdown",
   "metadata": {},
   "source": [
    "## Predicting the Type\n",
    "\n",
    "\n"
   ]
  },
  {
   "cell_type": "code",
   "execution_count": 38,
   "metadata": {},
   "outputs": [],
   "source": [
    "#split data train 70 % and test 30 %\n",
    "x_train, x_test, y_train, y_test = train_test_split(x, y, test_size=0.3, random_state=0)"
   ]
  },
  {
   "cell_type": "code",
   "execution_count": 39,
   "metadata": {},
   "outputs": [
    {
     "data": {
      "image/png": "[encoded data removed]",
      "text/plain": [
       "<Figure size 432x288 with 1 Axes>"
      ]
     },
     "metadata": {
      "needs_background": "light"
     },
     "output_type": "display_data"
    }
   ],
   "source": [
    "# hyperparameter tuning Logistic Regression Classifier\n",
    "\n",
    "scores = []\n",
    "\n",
    "for C in [0.001, 0.01, 0.1, 1, 10, 100, 1000]:\n",
    "    clf_lr = LogisticRegression(C=C, solver='lbfgs')\n",
    "    \n",
    "    clf_lr.fit(x_train, y_train)\n",
    "    y_pred = clf_lr.predict(x_test)\n",
    "    scores.append(accuracy_score(y_test,y_pred))\n",
    "#print(scores)    \n",
    "plt.plot([0.001, 0.01, 0.1, 1, 10, 100, 1000], scores)\n",
    "plt.show()"
   ]
  },
  {
   "cell_type": "code",
   "execution_count": 40,
   "metadata": {},
   "outputs": [
    {
     "name": "stdout",
     "output_type": "stream",
     "text": [
      "Train accuracy is:  0.8290062667860341\n",
      "Test accuracy is:  0.8041666666666667\n"
     ]
    },
    {
     "data": {
      "text/plain": [
       "<AxesSubplot:>"
      ]
     },
     "execution_count": 40,
     "metadata": {},
     "output_type": "execute_result"
    },
    {
     "data": {
      "image/png": "[encoded data removed]",
      "text/plain": [
       "<Figure size 432x288 with 2 Axes>"
      ]
     },
     "metadata": {
      "needs_background": "light"
     },
     "output_type": "display_data"
    }
   ],
   "source": [
    "# Logistic Regression Classifier\n",
    "\n",
    "clf_lr = LogisticRegression(C=1e5, solver='lbfgs')\n",
    "    \n",
    "clf_lr.fit(x_train, y_train)\n",
    "y_pred = clf_lr.predict(x_test)\n",
    "\n",
    "actrain = accuracy_score(y_train,clf_lr.predict(x_train))\n",
    "print('Train accuracy is: ',actrain)\n",
    "    \n",
    "ac = accuracy_score(y_test,clf_lr.predict(x_test))\n",
    "print('Test accuracy is: ',ac)\n",
    "cm = confusion_matrix(y_test,clf_lr.predict(x_test))\n",
    "\n",
    "#prec = precision_score(y_test,clf_lr.predict(x_test))\n",
    "#print('Precision score is: ',prec)\n",
    "\n",
    "#rec = recall_score(y_test,clf_lr.predict(x_test))\n",
    "#print('Recall score is: ',rec)\n",
    "\n",
    "sns.heatmap(cm,annot=True,fmt=\"d\")"
   ]
  },
  {
   "cell_type": "code",
   "execution_count": 41,
   "metadata": {},
   "outputs": [
    {
     "data": {
      "image/png": "[encoded data removed]",
      "text/plain": [
       "<Figure size 432x288 with 1 Axes>"
      ]
     },
     "metadata": {
      "needs_background": "light"
     },
     "output_type": "display_data"
    }
   ],
   "source": [
    "# hyperparameter tuning of K Nearest Neighbors Classifier\n",
    "\n",
    "scores = []\n",
    "\n",
    "for neighbors in range(1,10):\n",
    "    clf_nn = KNeighborsClassifier(n_neighbors=neighbors, metric='minkowski')\n",
    "    \n",
    "    clf_nn.fit(x_train, y_train)\n",
    "    y_pred = clf_nn.predict(x_test)\n",
    "    scores.append(accuracy_score(y_test,y_pred))\n",
    "#print(scores)    \n",
    "plt.plot(list(range(1,10)), scores)\n",
    "plt.show()"
   ]
  },
  {
   "cell_type": "code",
   "execution_count": 42,
   "metadata": {},
   "outputs": [
    {
     "name": "stdout",
     "output_type": "stream",
     "text": [
      "Train accuracy is:  1.0\n",
      "Test accuracy is:  0.8916666666666667\n"
     ]
    },
    {
     "data": {
      "text/plain": [
       "<AxesSubplot:>"
      ]
     },
     "execution_count": 42,
     "metadata": {},
     "output_type": "execute_result"
    },
    {
     "data": {
      "image/png": "[encoded data removed]",
      "text/plain": [
       "<Figure size 432x288 with 2 Axes>"
      ]
     },
     "metadata": {
      "needs_background": "light"
     },
     "output_type": "display_data"
    }
   ],
   "source": [
    "# KNN classifier\n",
    "\n",
    "clf_nn = KNeighborsClassifier(n_neighbors=1, metric='minkowski')\n",
    "    \n",
    "clf_nn.fit(x_train, y_train)\n",
    "y_pred = clf_nn.predict(x_test)\n",
    "\n",
    "\n",
    "actrain = accuracy_score(y_train,clf_nn.predict(x_train))\n",
    "print('Train accuracy is: ',actrain)\n",
    "ac = accuracy_score(y_test,clf_nn.predict(x_test))\n",
    "print('Test accuracy is: ',ac)\n",
    "cm = confusion_matrix(y_test,clf_nn.predict(x_test))\n",
    "\n",
    "#prec = precision_score(y_test,clf_nn.predict(x_test))\n",
    "#print('Precision score is: ',prec)\n",
    "\n",
    "#rec = recall_score(y_test,clf_nn.predict(x_test))\n",
    "#print('Recall score is: ',rec)\n",
    "\n",
    "sns.heatmap(cm,annot=True,fmt=\"d\")\n"
   ]
  },
  {
   "cell_type": "code",
   "execution_count": 43,
   "metadata": {},
   "outputs": [
    {
     "data": {
      "image/png": "[encoded data removed]",
      "text/plain": [
       "<Figure size 432x288 with 1 Axes>"
      ]
     },
     "metadata": {
      "needs_background": "light"
     },
     "output_type": "display_data"
    }
   ],
   "source": [
    "# hyperparameter tuning of Decision Tree Classifier\n",
    "scores = []\n",
    "\n",
    "for leaves in range(2,30):\n",
    "    clf_dt = DecisionTreeClassifier(max_leaf_nodes=leaves, random_state=0,\n",
    "                                   criterion='entropy')\n",
    "    clf_dt.fit(x_train,y_train)\n",
    "    y_pred = clf_dt.predict(x_test)\n",
    "    \n",
    "    scores.append(accuracy_score(y_test,y_pred))\n",
    "#print(scores)\n",
    "plt.plot(list(range(2,30)), scores)\n",
    "plt.show()"
   ]
  },
  {
   "cell_type": "code",
   "execution_count": 44,
   "metadata": {},
   "outputs": [
    {
     "name": "stdout",
     "output_type": "stream",
     "text": [
      "Train accuracy is:  0.9955237242614146\n",
      "Test accuracy is:  0.9854166666666667\n"
     ]
    },
    {
     "data": {
      "text/plain": [
       "<AxesSubplot:>"
      ]
     },
     "execution_count": 44,
     "metadata": {},
     "output_type": "execute_result"
    },
    {
     "data": {
      "image/png": "[encoded data removed]",
      "text/plain": [
       "<Figure size 432x288 with 2 Axes>"
      ]
     },
     "metadata": {
      "needs_background": "light"
     },
     "output_type": "display_data"
    }
   ],
   "source": [
    "# Decision Tree Classifier\n",
    "clf_dt = DecisionTreeClassifier(max_leaf_nodes=29, random_state=0,\n",
    "                                   criterion='entropy')\n",
    "clf_dt.fit(x_train,y_train)\n",
    "y_pred = clf_dt.predict(x_test)\n",
    "\n",
    "actrain = accuracy_score(y_train,clf_dt.predict(x_train))\n",
    "print('Train accuracy is: ',actrain)\n",
    "    \n",
    "ac = accuracy_score(y_test,clf_dt.predict(x_test))\n",
    "print('Test accuracy is: ',ac)\n",
    "cm = confusion_matrix(y_test,clf_dt.predict(x_test))\n",
    "\n",
    "#prec = precision_score(y_test,clf_dt.predict(x_test))\n",
    "#print('Precision score is: ',prec)\n",
    "\n",
    "#rec = recall_score(y_test,clf_dt.predict(x_test))\n",
    "#print('Recall score is: ',rec)\n",
    "\n",
    "sns.heatmap(cm,annot=True,fmt=\"d\")\n",
    "\n"
   ]
  },
  {
   "cell_type": "markdown",
   "metadata": {},
   "source": [
    "### Visualize the Decision Tree"
   ]
  },
  {
   "cell_type": "code",
   "execution_count": 45,
   "metadata": {},
   "outputs": [
    {
     "data": {
      "image/svg+xml": [
       "<?xml version=\"1.0\" encoding=\"UTF-8\" standalone=\"no\"?>\r\n",
       "<!DOCTYPE svg PUBLIC \"-//W3C//DTD SVG 1.1//EN\"\r\n",
       " \"http://www.w3.org/Graphics/SVG/1.1/DTD/svg11.dtd\">\r\n",
       "<!-- Generated by graphviz version 2.38.0 (20140413.2041)\r\n",
       " -->\r\n",
       "<!-- Title: Tree Pages: 1 -->\r\n",
       "<svg width=\"1492pt\" height=\"1261pt\"\r\n",
       " viewBox=\"0.00 0.00 1492.00 1261.00\" xmlns=\"http://www.w3.org/2000/svg\" xmlns:xlink=\"http://www.w3.org/1999/xlink\">\r\n",
       "<g id=\"graph0\" class=\"graph\" transform=\"scale(1 1) rotate(0) translate(4 1257)\">\r\n",
       "<title>Tree</title>\r\n",
       "<polygon fill=\"white\" stroke=\"none\" points=\"-4,4 -4,-1257 1488,-1257 1488,4 -4,4\"/>\r\n",
       "<!-- 0 -->\r\n",
       "<g id=\"node1\" class=\"node\"><title>0</title>\r\n",
       "<path fill=\"#fdfeff\" stroke=\"black\" d=\"M1201.5,-1253C1201.5,-1253 1095.5,-1253 1095.5,-1253 1089.5,-1253 1083.5,-1247 1083.5,-1241 1083.5,-1241 1083.5,-1201 1083.5,-1201 1083.5,-1195 1089.5,-1189 1095.5,-1189 1095.5,-1189 1201.5,-1189 1201.5,-1189 1207.5,-1189 1213.5,-1195 1213.5,-1201 1213.5,-1201 1213.5,-1241 1213.5,-1241 1213.5,-1247 1207.5,-1253 1201.5,-1253\"/>\r\n",
       "<text text-anchor=\"start\" x=\"1101.5\" y=\"-1238.8\" font-family=\"Helvetica,sans-Serif\" font-size=\"14.00\">X</text>\r\n",
       "<text text-anchor=\"start\" x=\"1111.5\" y=\"-1238.8\" font-family=\"Helvetica,sans-Serif\" baseline-shift=\"sub\" font-size=\"14.00\">3</text>\r\n",
       "<text text-anchor=\"start\" x=\"1118.5\" y=\"-1238.8\" font-family=\"Helvetica,sans-Serif\" font-size=\"14.00\"> ≤ 300000.0</text>\r\n",
       "<text text-anchor=\"start\" x=\"1106.5\" y=\"-1224.8\" font-family=\"Helvetica,sans-Serif\" font-size=\"14.00\">entropy = 1.0</text>\r\n",
       "<text text-anchor=\"start\" x=\"1097\" y=\"-1210.8\" font-family=\"Helvetica,sans-Serif\" font-size=\"14.00\">samples = 1117</text>\r\n",
       "<text text-anchor=\"start\" x=\"1091.5\" y=\"-1196.8\" font-family=\"Helvetica,sans-Serif\" font-size=\"14.00\">value = [555, 562]</text>\r\n",
       "</g>\r\n",
       "<!-- 1 -->\r\n",
       "<g id=\"node2\" class=\"node\"><title>1</title>\r\n",
       "<path fill=\"#85c3ef\" stroke=\"black\" d=\"M1050.5,-1153C1050.5,-1153 944.5,-1153 944.5,-1153 938.5,-1153 932.5,-1147 932.5,-1141 932.5,-1141 932.5,-1101 932.5,-1101 932.5,-1095 938.5,-1089 944.5,-1089 944.5,-1089 1050.5,-1089 1050.5,-1089 1056.5,-1089 1062.5,-1095 1062.5,-1101 1062.5,-1101 1062.5,-1141 1062.5,-1141 1062.5,-1147 1056.5,-1153 1050.5,-1153\"/>\r\n",
       "<text text-anchor=\"start\" x=\"967.5\" y=\"-1138.8\" font-family=\"Helvetica,sans-Serif\" font-size=\"14.00\">X</text>\r\n",
       "<text text-anchor=\"start\" x=\"977.5\" y=\"-1138.8\" font-family=\"Helvetica,sans-Serif\" baseline-shift=\"sub\" font-size=\"14.00\">13</text>\r\n",
       "<text text-anchor=\"start\" x=\"991.5\" y=\"-1138.8\" font-family=\"Helvetica,sans-Serif\" font-size=\"14.00\"> ≤ 0.5</text>\r\n",
       "<text text-anchor=\"start\" x=\"947.5\" y=\"-1124.8\" font-family=\"Helvetica,sans-Serif\" font-size=\"14.00\">entropy = 0.852</text>\r\n",
       "<text text-anchor=\"start\" x=\"950\" y=\"-1110.8\" font-family=\"Helvetica,sans-Serif\" font-size=\"14.00\">samples = 743</text>\r\n",
       "<text text-anchor=\"start\" x=\"940.5\" y=\"-1096.8\" font-family=\"Helvetica,sans-Serif\" font-size=\"14.00\">value = [206, 537]</text>\r\n",
       "</g>\r\n",
       "<!-- 0&#45;&gt;1 -->\r\n",
       "<g id=\"edge1\" class=\"edge\"><title>0&#45;&gt;1</title>\r\n",
       "<path fill=\"none\" stroke=\"black\" d=\"M1100.72,-1188.99C1085.85,-1179.34 1069.31,-1168.61 1053.91,-1158.61\"/>\r\n",
       "<polygon fill=\"black\" stroke=\"black\" points=\"1055.78,-1155.65 1045.48,-1153.14 1051.97,-1161.52 1055.78,-1155.65\"/>\r\n",
       "<text text-anchor=\"middle\" x=\"1050.69\" y=\"-1173.89\" font-family=\"Helvetica,sans-Serif\" font-size=\"14.00\">True</text>\r\n",
       "</g>\r\n",
       "<!-- 2 -->\r\n",
       "<g id=\"node41\" class=\"node\"><title>2</title>\r\n",
       "<path fill=\"#e78a47\" stroke=\"black\" d=\"M1348.5,-1153C1348.5,-1153 1250.5,-1153 1250.5,-1153 1244.5,-1153 1238.5,-1147 1238.5,-1141 1238.5,-1141 1238.5,-1101 1238.5,-1101 1238.5,-1095 1244.5,-1089 1250.5,-1089 1250.5,-1089 1348.5,-1089 1348.5,-1089 1354.5,-1089 1360.5,-1095 1360.5,-1101 1360.5,-1101 1360.5,-1141 1360.5,-1141 1360.5,-1147 1354.5,-1153 1348.5,-1153\"/>\r\n",
       "<text text-anchor=\"start\" x=\"1269.5\" y=\"-1138.8\" font-family=\"Helvetica,sans-Serif\" font-size=\"14.00\">X</text>\r\n",
       "<text text-anchor=\"start\" x=\"1279.5\" y=\"-1138.8\" font-family=\"Helvetica,sans-Serif\" baseline-shift=\"sub\" font-size=\"14.00\">17</text>\r\n",
       "<text text-anchor=\"start\" x=\"1293.5\" y=\"-1138.8\" font-family=\"Helvetica,sans-Serif\" font-size=\"14.00\"> ≤ 0.5</text>\r\n",
       "<text text-anchor=\"start\" x=\"1249.5\" y=\"-1124.8\" font-family=\"Helvetica,sans-Serif\" font-size=\"14.00\">entropy = 0.354</text>\r\n",
       "<text text-anchor=\"start\" x=\"1252\" y=\"-1110.8\" font-family=\"Helvetica,sans-Serif\" font-size=\"14.00\">samples = 374</text>\r\n",
       "<text text-anchor=\"start\" x=\"1246.5\" y=\"-1096.8\" font-family=\"Helvetica,sans-Serif\" font-size=\"14.00\">value = [349, 25]</text>\r\n",
       "</g>\r\n",
       "<!-- 0&#45;&gt;2 -->\r\n",
       "<g id=\"edge40\" class=\"edge\"><title>0&#45;&gt;2</title>\r\n",
       "<path fill=\"none\" stroke=\"black\" d=\"M1196.28,-1188.99C1211.15,-1179.34 1227.69,-1168.61 1243.09,-1158.61\"/>\r\n",
       "<polygon fill=\"black\" stroke=\"black\" points=\"1245.03,-1161.52 1251.52,-1153.14 1241.22,-1155.65 1245.03,-1161.52\"/>\r\n",
       "<text text-anchor=\"middle\" x=\"1246.31\" y=\"-1173.89\" font-family=\"Helvetica,sans-Serif\" font-size=\"14.00\">False</text>\r\n",
       "</g>\r\n",
       "<!-- 3 -->\r\n",
       "<g id=\"node3\" class=\"node\"><title>3</title>\r\n",
       "<path fill=\"#62b1ea\" stroke=\"black\" d=\"M683.5,-1053C683.5,-1053 577.5,-1053 577.5,-1053 571.5,-1053 565.5,-1047 565.5,-1041 565.5,-1041 565.5,-1001 565.5,-1001 565.5,-995 571.5,-989 577.5,-989 577.5,-989 683.5,-989 683.5,-989 689.5,-989 695.5,-995 695.5,-1001 695.5,-1001 695.5,-1041 695.5,-1041 695.5,-1047 689.5,-1053 683.5,-1053\"/>\r\n",
       "<text text-anchor=\"start\" x=\"591.5\" y=\"-1038.8\" font-family=\"Helvetica,sans-Serif\" font-size=\"14.00\">X</text>\r\n",
       "<text text-anchor=\"start\" x=\"601.5\" y=\"-1038.8\" font-family=\"Helvetica,sans-Serif\" baseline-shift=\"sub\" font-size=\"14.00\">3</text>\r\n",
       "<text text-anchor=\"start\" x=\"608.5\" y=\"-1038.8\" font-family=\"Helvetica,sans-Serif\" font-size=\"14.00\"> ≤ 7500.0</text>\r\n",
       "<text text-anchor=\"start\" x=\"580.5\" y=\"-1024.8\" font-family=\"Helvetica,sans-Serif\" font-size=\"14.00\">entropy = 0.664</text>\r\n",
       "<text text-anchor=\"start\" x=\"583\" y=\"-1010.8\" font-family=\"Helvetica,sans-Serif\" font-size=\"14.00\">samples = 643</text>\r\n",
       "<text text-anchor=\"start\" x=\"573.5\" y=\"-996.8\" font-family=\"Helvetica,sans-Serif\" font-size=\"14.00\">value = [111, 532]</text>\r\n",
       "</g>\r\n",
       "<!-- 1&#45;&gt;3 -->\r\n",
       "<g id=\"edge2\" class=\"edge\"><title>1&#45;&gt;3</title>\r\n",
       "<path fill=\"none\" stroke=\"black\" d=\"M932.311,-1102.59C868.832,-1085.64 772.425,-1059.9 705.728,-1042.09\"/>\r\n",
       "<polygon fill=\"black\" stroke=\"black\" points=\"706.264,-1038.61 695.699,-1039.41 704.458,-1045.37 706.264,-1038.61\"/>\r\n",
       "</g>\r\n",
       "<!-- 4 -->\r\n",
       "<g id=\"node34\" class=\"node\"><title>4</title>\r\n",
       "<path fill=\"#e68843\" stroke=\"black\" d=\"M1043.5,-1053C1043.5,-1053 951.5,-1053 951.5,-1053 945.5,-1053 939.5,-1047 939.5,-1041 939.5,-1041 939.5,-1001 939.5,-1001 939.5,-995 945.5,-989 951.5,-989 951.5,-989 1043.5,-989 1043.5,-989 1049.5,-989 1055.5,-995 1055.5,-1001 1055.5,-1001 1055.5,-1041 1055.5,-1041 1055.5,-1047 1049.5,-1053 1043.5,-1053\"/>\r\n",
       "<text text-anchor=\"start\" x=\"967.5\" y=\"-1038.8\" font-family=\"Helvetica,sans-Serif\" font-size=\"14.00\">X</text>\r\n",
       "<text text-anchor=\"start\" x=\"977.5\" y=\"-1038.8\" font-family=\"Helvetica,sans-Serif\" baseline-shift=\"sub\" font-size=\"14.00\">46</text>\r\n",
       "<text text-anchor=\"start\" x=\"991.5\" y=\"-1038.8\" font-family=\"Helvetica,sans-Serif\" font-size=\"14.00\"> ≤ 0.5</text>\r\n",
       "<text text-anchor=\"start\" x=\"947.5\" y=\"-1024.8\" font-family=\"Helvetica,sans-Serif\" font-size=\"14.00\">entropy = 0.286</text>\r\n",
       "<text text-anchor=\"start\" x=\"950\" y=\"-1010.8\" font-family=\"Helvetica,sans-Serif\" font-size=\"14.00\">samples = 100</text>\r\n",
       "<text text-anchor=\"start\" x=\"953\" y=\"-996.8\" font-family=\"Helvetica,sans-Serif\" font-size=\"14.00\">value = [95, 5]</text>\r\n",
       "</g>\r\n",
       "<!-- 1&#45;&gt;4 -->\r\n",
       "<g id=\"edge33\" class=\"edge\"><title>1&#45;&gt;4</title>\r\n",
       "<path fill=\"none\" stroke=\"black\" d=\"M997.5,-1088.99C997.5,-1080.86 997.5,-1071.96 997.5,-1063.38\"/>\r\n",
       "<polygon fill=\"black\" stroke=\"black\" points=\"1001,-1063.14 997.5,-1053.14 994,-1063.14 1001,-1063.14\"/>\r\n",
       "</g>\r\n",
       "<!-- 5 -->\r\n",
       "<g id=\"node4\" class=\"node\"><title>5</title>\r\n",
       "<path fill=\"#3c9ee5\" stroke=\"black\" d=\"M471.5,-953C471.5,-953 379.5,-953 379.5,-953 373.5,-953 367.5,-947 367.5,-941 367.5,-941 367.5,-901 367.5,-901 367.5,-895 373.5,-889 379.5,-889 379.5,-889 471.5,-889 471.5,-889 477.5,-889 483.5,-895 483.5,-901 483.5,-901 483.5,-941 483.5,-941 483.5,-947 477.5,-953 471.5,-953\"/>\r\n",
       "<text text-anchor=\"start\" x=\"395.5\" y=\"-938.8\" font-family=\"Helvetica,sans-Serif\" font-size=\"14.00\">X</text>\r\n",
       "<text text-anchor=\"start\" x=\"405.5\" y=\"-938.8\" font-family=\"Helvetica,sans-Serif\" baseline-shift=\"sub\" font-size=\"14.00\">11</text>\r\n",
       "<text text-anchor=\"start\" x=\"419.5\" y=\"-938.8\" font-family=\"Helvetica,sans-Serif\" font-size=\"14.00\"> ≤ 0.5</text>\r\n",
       "<text text-anchor=\"start\" x=\"375.5\" y=\"-924.8\" font-family=\"Helvetica,sans-Serif\" font-size=\"14.00\">entropy = 0.107</text>\r\n",
       "<text text-anchor=\"start\" x=\"378\" y=\"-910.8\" font-family=\"Helvetica,sans-Serif\" font-size=\"14.00\">samples = 353</text>\r\n",
       "<text text-anchor=\"start\" x=\"377\" y=\"-896.8\" font-family=\"Helvetica,sans-Serif\" font-size=\"14.00\">value = [5, 348]</text>\r\n",
       "</g>\r\n",
       "<!-- 3&#45;&gt;5 -->\r\n",
       "<g id=\"edge3\" class=\"edge\"><title>3&#45;&gt;5</title>\r\n",
       "<path fill=\"none\" stroke=\"black\" d=\"M565.637,-988.992C542.44,-977.903 516.257,-965.386 492.855,-954.199\"/>\r\n",
       "<polygon fill=\"black\" stroke=\"black\" points=\"494.228,-950.976 483.696,-949.821 491.209,-957.292 494.228,-950.976\"/>\r\n",
       "</g>\r\n",
       "<!-- 6 -->\r\n",
       "<g id=\"node9\" class=\"node\"><title>6</title>\r\n",
       "<path fill=\"#abd5f4\" stroke=\"black\" d=\"M683.5,-953C683.5,-953 577.5,-953 577.5,-953 571.5,-953 565.5,-947 565.5,-941 565.5,-941 565.5,-901 565.5,-901 565.5,-895 571.5,-889 577.5,-889 577.5,-889 683.5,-889 683.5,-889 689.5,-889 695.5,-895 695.5,-901 695.5,-901 695.5,-941 695.5,-941 695.5,-947 689.5,-953 683.5,-953\"/>\r\n",
       "<text text-anchor=\"start\" x=\"600.5\" y=\"-938.8\" font-family=\"Helvetica,sans-Serif\" font-size=\"14.00\">X</text>\r\n",
       "<text text-anchor=\"start\" x=\"610.5\" y=\"-938.8\" font-family=\"Helvetica,sans-Serif\" baseline-shift=\"sub\" font-size=\"14.00\">17</text>\r\n",
       "<text text-anchor=\"start\" x=\"624.5\" y=\"-938.8\" font-family=\"Helvetica,sans-Serif\" font-size=\"14.00\"> ≤ 0.5</text>\r\n",
       "<text text-anchor=\"start\" x=\"580.5\" y=\"-924.8\" font-family=\"Helvetica,sans-Serif\" font-size=\"14.00\">entropy = 0.947</text>\r\n",
       "<text text-anchor=\"start\" x=\"583\" y=\"-910.8\" font-family=\"Helvetica,sans-Serif\" font-size=\"14.00\">samples = 290</text>\r\n",
       "<text text-anchor=\"start\" x=\"573.5\" y=\"-896.8\" font-family=\"Helvetica,sans-Serif\" font-size=\"14.00\">value = [106, 184]</text>\r\n",
       "</g>\r\n",
       "<!-- 3&#45;&gt;6 -->\r\n",
       "<g id=\"edge8\" class=\"edge\"><title>3&#45;&gt;6</title>\r\n",
       "<path fill=\"none\" stroke=\"black\" d=\"M630.5,-988.992C630.5,-980.859 630.5,-971.959 630.5,-963.378\"/>\r\n",
       "<polygon fill=\"black\" stroke=\"black\" points=\"634,-963.142 630.5,-953.142 627,-963.142 634,-963.142\"/>\r\n",
       "</g>\r\n",
       "<!-- 25 -->\r\n",
       "<g id=\"node5\" class=\"node\"><title>25</title>\r\n",
       "<path fill=\"#3a9ee5\" stroke=\"black\" d=\"M345.5,-853C345.5,-853 253.5,-853 253.5,-853 247.5,-853 241.5,-847 241.5,-841 241.5,-841 241.5,-801 241.5,-801 241.5,-795 247.5,-789 253.5,-789 253.5,-789 345.5,-789 345.5,-789 351.5,-789 357.5,-795 357.5,-801 357.5,-801 357.5,-841 357.5,-841 357.5,-847 351.5,-853 345.5,-853\"/>\r\n",
       "<text text-anchor=\"start\" x=\"273\" y=\"-838.8\" font-family=\"Helvetica,sans-Serif\" font-size=\"14.00\">X</text>\r\n",
       "<text text-anchor=\"start\" x=\"283\" y=\"-838.8\" font-family=\"Helvetica,sans-Serif\" baseline-shift=\"sub\" font-size=\"14.00\">8</text>\r\n",
       "<text text-anchor=\"start\" x=\"290\" y=\"-838.8\" font-family=\"Helvetica,sans-Serif\" font-size=\"14.00\"> ≤ 0.5</text>\r\n",
       "<text text-anchor=\"start\" x=\"249.5\" y=\"-824.8\" font-family=\"Helvetica,sans-Serif\" font-size=\"14.00\">entropy = 0.051</text>\r\n",
       "<text text-anchor=\"start\" x=\"252\" y=\"-810.8\" font-family=\"Helvetica,sans-Serif\" font-size=\"14.00\">samples = 350</text>\r\n",
       "<text text-anchor=\"start\" x=\"251\" y=\"-796.8\" font-family=\"Helvetica,sans-Serif\" font-size=\"14.00\">value = [2, 348]</text>\r\n",
       "</g>\r\n",
       "<!-- 5&#45;&gt;25 -->\r\n",
       "<g id=\"edge4\" class=\"edge\"><title>5&#45;&gt;25</title>\r\n",
       "<path fill=\"none\" stroke=\"black\" d=\"M385.633,-888.992C373.568,-879.608 360.188,-869.202 347.642,-859.444\"/>\r\n",
       "<polygon fill=\"black\" stroke=\"black\" points=\"349.583,-856.519 339.54,-853.142 345.285,-862.045 349.583,-856.519\"/>\r\n",
       "</g>\r\n",
       "<!-- 26 -->\r\n",
       "<g id=\"node8\" class=\"node\"><title>26</title>\r\n",
       "<path fill=\"#e58139\" stroke=\"black\" d=\"M463.5,-847.5C463.5,-847.5 387.5,-847.5 387.5,-847.5 381.5,-847.5 375.5,-841.5 375.5,-835.5 375.5,-835.5 375.5,-806.5 375.5,-806.5 375.5,-800.5 381.5,-794.5 387.5,-794.5 387.5,-794.5 463.5,-794.5 463.5,-794.5 469.5,-794.5 475.5,-800.5 475.5,-806.5 475.5,-806.5 475.5,-835.5 475.5,-835.5 475.5,-841.5 469.5,-847.5 463.5,-847.5\"/>\r\n",
       "<text text-anchor=\"start\" x=\"383.5\" y=\"-832.3\" font-family=\"Helvetica,sans-Serif\" font-size=\"14.00\">entropy = 0.0</text>\r\n",
       "<text text-anchor=\"start\" x=\"386\" y=\"-817.3\" font-family=\"Helvetica,sans-Serif\" font-size=\"14.00\">samples = 3</text>\r\n",
       "<text text-anchor=\"start\" x=\"385\" y=\"-802.3\" font-family=\"Helvetica,sans-Serif\" font-size=\"14.00\">value = [3, 0]</text>\r\n",
       "</g>\r\n",
       "<!-- 5&#45;&gt;26 -->\r\n",
       "<g id=\"edge7\" class=\"edge\"><title>5&#45;&gt;26</title>\r\n",
       "<path fill=\"none\" stroke=\"black\" d=\"M425.5,-888.992C425.5,-879.087 425.5,-868.042 425.5,-857.824\"/>\r\n",
       "<polygon fill=\"black\" stroke=\"black\" points=\"429,-857.556 425.5,-847.556 422,-857.556 429,-857.556\"/>\r\n",
       "</g>\r\n",
       "<!-- 31 -->\r\n",
       "<g id=\"node6\" class=\"node\"><title>31</title>\r\n",
       "<path fill=\"#399de5\" stroke=\"black\" d=\"M343,-747.5C343,-747.5 254,-747.5 254,-747.5 248,-747.5 242,-741.5 242,-735.5 242,-735.5 242,-706.5 242,-706.5 242,-700.5 248,-694.5 254,-694.5 254,-694.5 343,-694.5 343,-694.5 349,-694.5 355,-700.5 355,-706.5 355,-706.5 355,-735.5 355,-735.5 355,-741.5 349,-747.5 343,-747.5\"/>\r\n",
       "<text text-anchor=\"start\" x=\"256.5\" y=\"-732.3\" font-family=\"Helvetica,sans-Serif\" font-size=\"14.00\">entropy = 0.0</text>\r\n",
       "<text text-anchor=\"start\" x=\"251\" y=\"-717.3\" font-family=\"Helvetica,sans-Serif\" font-size=\"14.00\">samples = 348</text>\r\n",
       "<text text-anchor=\"start\" x=\"250\" y=\"-702.3\" font-family=\"Helvetica,sans-Serif\" font-size=\"14.00\">value = [0, 348]</text>\r\n",
       "</g>\r\n",
       "<!-- 25&#45;&gt;31 -->\r\n",
       "<g id=\"edge5\" class=\"edge\"><title>25&#45;&gt;31</title>\r\n",
       "<path fill=\"none\" stroke=\"black\" d=\"M299.184,-788.992C299.083,-779.087 298.97,-768.042 298.866,-757.824\"/>\r\n",
       "<polygon fill=\"black\" stroke=\"black\" points=\"302.363,-757.52 298.761,-747.556 295.363,-757.592 302.363,-757.52\"/>\r\n",
       "</g>\r\n",
       "<!-- 32 -->\r\n",
       "<g id=\"node7\" class=\"node\"><title>32</title>\r\n",
       "<path fill=\"#e58139\" stroke=\"black\" d=\"M461.5,-747.5C461.5,-747.5 385.5,-747.5 385.5,-747.5 379.5,-747.5 373.5,-741.5 373.5,-735.5 373.5,-735.5 373.5,-706.5 373.5,-706.5 373.5,-700.5 379.5,-694.5 385.5,-694.5 385.5,-694.5 461.5,-694.5 461.5,-694.5 467.5,-694.5 473.5,-700.5 473.5,-706.5 473.5,-706.5 473.5,-735.5 473.5,-735.5 473.5,-741.5 467.5,-747.5 461.5,-747.5\"/>\r\n",
       "<text text-anchor=\"start\" x=\"381.5\" y=\"-732.3\" font-family=\"Helvetica,sans-Serif\" font-size=\"14.00\">entropy = 0.0</text>\r\n",
       "<text text-anchor=\"start\" x=\"384\" y=\"-717.3\" font-family=\"Helvetica,sans-Serif\" font-size=\"14.00\">samples = 2</text>\r\n",
       "<text text-anchor=\"start\" x=\"383\" y=\"-702.3\" font-family=\"Helvetica,sans-Serif\" font-size=\"14.00\">value = [2, 0]</text>\r\n",
       "</g>\r\n",
       "<!-- 25&#45;&gt;32 -->\r\n",
       "<g id=\"edge6\" class=\"edge\"><title>25&#45;&gt;32</title>\r\n",
       "<path fill=\"none\" stroke=\"black\" d=\"M338.734,-788.992C352.851,-777.836 368.796,-765.234 383.016,-753.995\"/>\r\n",
       "<polygon fill=\"black\" stroke=\"black\" points=\"385.488,-756.503 391.163,-747.556 381.148,-751.011 385.488,-756.503\"/>\r\n",
       "</g>\r\n",
       "<!-- 9 -->\r\n",
       "<g id=\"node10\" class=\"node\"><title>9</title>\r\n",
       "<path fill=\"#d3e9f9\" stroke=\"black\" d=\"M611.5,-853C611.5,-853 505.5,-853 505.5,-853 499.5,-853 493.5,-847 493.5,-841 493.5,-841 493.5,-801 493.5,-801 493.5,-795 499.5,-789 505.5,-789 505.5,-789 611.5,-789 611.5,-789 617.5,-789 623.5,-795 623.5,-801 623.5,-801 623.5,-841 623.5,-841 623.5,-847 617.5,-853 611.5,-853\"/>\r\n",
       "<text text-anchor=\"start\" x=\"532\" y=\"-838.8\" font-family=\"Helvetica,sans-Serif\" font-size=\"14.00\">X</text>\r\n",
       "<text text-anchor=\"start\" x=\"542\" y=\"-838.8\" font-family=\"Helvetica,sans-Serif\" baseline-shift=\"sub\" font-size=\"14.00\">7</text>\r\n",
       "<text text-anchor=\"start\" x=\"549\" y=\"-838.8\" font-family=\"Helvetica,sans-Serif\" font-size=\"14.00\"> ≤ 0.5</text>\r\n",
       "<text text-anchor=\"start\" x=\"508.5\" y=\"-824.8\" font-family=\"Helvetica,sans-Serif\" font-size=\"14.00\">entropy = 0.989</text>\r\n",
       "<text text-anchor=\"start\" x=\"511\" y=\"-810.8\" font-family=\"Helvetica,sans-Serif\" font-size=\"14.00\">samples = 242</text>\r\n",
       "<text text-anchor=\"start\" x=\"501.5\" y=\"-796.8\" font-family=\"Helvetica,sans-Serif\" font-size=\"14.00\">value = [106, 136]</text>\r\n",
       "</g>\r\n",
       "<!-- 6&#45;&gt;9 -->\r\n",
       "<g id=\"edge9\" class=\"edge\"><title>6&#45;&gt;9</title>\r\n",
       "<path fill=\"none\" stroke=\"black\" d=\"M607.719,-888.992C601.284,-880.234 594.195,-870.585 587.45,-861.404\"/>\r\n",
       "<polygon fill=\"black\" stroke=\"black\" points=\"590.122,-859.129 581.38,-853.142 584.48,-863.274 590.122,-859.129\"/>\r\n",
       "</g>\r\n",
       "<!-- 10 -->\r\n",
       "<g id=\"node33\" class=\"node\"><title>10</title>\r\n",
       "<path fill=\"#399de5\" stroke=\"black\" d=\"M735,-847.5C735,-847.5 654,-847.5 654,-847.5 648,-847.5 642,-841.5 642,-835.5 642,-835.5 642,-806.5 642,-806.5 642,-800.5 648,-794.5 654,-794.5 654,-794.5 735,-794.5 735,-794.5 741,-794.5 747,-800.5 747,-806.5 747,-806.5 747,-835.5 747,-835.5 747,-841.5 741,-847.5 735,-847.5\"/>\r\n",
       "<text text-anchor=\"start\" x=\"652.5\" y=\"-832.3\" font-family=\"Helvetica,sans-Serif\" font-size=\"14.00\">entropy = 0.0</text>\r\n",
       "<text text-anchor=\"start\" x=\"651\" y=\"-817.3\" font-family=\"Helvetica,sans-Serif\" font-size=\"14.00\">samples = 48</text>\r\n",
       "<text text-anchor=\"start\" x=\"650\" y=\"-802.3\" font-family=\"Helvetica,sans-Serif\" font-size=\"14.00\">value = [0, 48]</text>\r\n",
       "</g>\r\n",
       "<!-- 6&#45;&gt;10 -->\r\n",
       "<g id=\"edge32\" class=\"edge\"><title>6&#45;&gt;10</title>\r\n",
       "<path fill=\"none\" stroke=\"black\" d=\"M650.75,-888.992C657.559,-878.566 665.193,-866.877 672.154,-856.218\"/>\r\n",
       "<polygon fill=\"black\" stroke=\"black\" points=\"675.273,-857.843 677.81,-847.556 669.412,-854.015 675.273,-857.843\"/>\r\n",
       "</g>\r\n",
       "<!-- 11 -->\r\n",
       "<g id=\"node11\" class=\"node\"><title>11</title>\r\n",
       "<path fill=\"#b1d9f5\" stroke=\"black\" d=\"M603.5,-753C603.5,-753 505.5,-753 505.5,-753 499.5,-753 493.5,-747 493.5,-741 493.5,-741 493.5,-701 493.5,-701 493.5,-695 499.5,-689 505.5,-689 505.5,-689 603.5,-689 603.5,-689 609.5,-689 615.5,-695 615.5,-701 615.5,-701 615.5,-741 615.5,-741 615.5,-747 609.5,-753 603.5,-753\"/>\r\n",
       "<text text-anchor=\"start\" x=\"528\" y=\"-738.8\" font-family=\"Helvetica,sans-Serif\" font-size=\"14.00\">X</text>\r\n",
       "<text text-anchor=\"start\" x=\"538\" y=\"-738.8\" font-family=\"Helvetica,sans-Serif\" baseline-shift=\"sub\" font-size=\"14.00\">6</text>\r\n",
       "<text text-anchor=\"start\" x=\"545\" y=\"-738.8\" font-family=\"Helvetica,sans-Serif\" font-size=\"14.00\"> ≤ 0.5</text>\r\n",
       "<text text-anchor=\"start\" x=\"504.5\" y=\"-724.8\" font-family=\"Helvetica,sans-Serif\" font-size=\"14.00\">entropy = 0.957</text>\r\n",
       "<text text-anchor=\"start\" x=\"507\" y=\"-710.8\" font-family=\"Helvetica,sans-Serif\" font-size=\"14.00\">samples = 217</text>\r\n",
       "<text text-anchor=\"start\" x=\"501.5\" y=\"-696.8\" font-family=\"Helvetica,sans-Serif\" font-size=\"14.00\">value = [82, 135]</text>\r\n",
       "</g>\r\n",
       "<!-- 9&#45;&gt;11 -->\r\n",
       "<g id=\"edge10\" class=\"edge\"><title>9&#45;&gt;11</title>\r\n",
       "<path fill=\"none\" stroke=\"black\" d=\"M557.234,-788.992C556.902,-780.859 556.539,-771.959 556.189,-763.378\"/>\r\n",
       "<polygon fill=\"black\" stroke=\"black\" points=\"559.676,-762.991 555.771,-753.142 552.682,-763.277 559.676,-762.991\"/>\r\n",
       "</g>\r\n",
       "<!-- 12 -->\r\n",
       "<g id=\"node32\" class=\"node\"><title>12</title>\r\n",
       "<path fill=\"#e68641\" stroke=\"black\" d=\"M737.5,-747.5C737.5,-747.5 645.5,-747.5 645.5,-747.5 639.5,-747.5 633.5,-741.5 633.5,-735.5 633.5,-735.5 633.5,-706.5 633.5,-706.5 633.5,-700.5 639.5,-694.5 645.5,-694.5 645.5,-694.5 737.5,-694.5 737.5,-694.5 743.5,-694.5 749.5,-700.5 749.5,-706.5 749.5,-706.5 749.5,-735.5 749.5,-735.5 749.5,-741.5 743.5,-747.5 737.5,-747.5\"/>\r\n",
       "<text text-anchor=\"start\" x=\"641.5\" y=\"-732.3\" font-family=\"Helvetica,sans-Serif\" font-size=\"14.00\">entropy = 0.242</text>\r\n",
       "<text text-anchor=\"start\" x=\"648\" y=\"-717.3\" font-family=\"Helvetica,sans-Serif\" font-size=\"14.00\">samples = 25</text>\r\n",
       "<text text-anchor=\"start\" x=\"647\" y=\"-702.3\" font-family=\"Helvetica,sans-Serif\" font-size=\"14.00\">value = [24, 1]</text>\r\n",
       "</g>\r\n",
       "<!-- 9&#45;&gt;12 -->\r\n",
       "<g id=\"edge31\" class=\"edge\"><title>9&#45;&gt;12</title>\r\n",
       "<path fill=\"none\" stroke=\"black\" d=\"M600.582,-788.992C615.865,-777.731 633.145,-764.998 648.505,-753.68\"/>\r\n",
       "<polygon fill=\"black\" stroke=\"black\" points=\"650.842,-756.306 656.816,-747.556 646.69,-750.671 650.842,-756.306\"/>\r\n",
       "</g>\r\n",
       "<!-- 13 -->\r\n",
       "<g id=\"node12\" class=\"node\"><title>13</title>\r\n",
       "<path fill=\"#93caf1\" stroke=\"black\" d=\"M500.5,-653C500.5,-653 402.5,-653 402.5,-653 396.5,-653 390.5,-647 390.5,-641 390.5,-641 390.5,-601 390.5,-601 390.5,-595 396.5,-589 402.5,-589 402.5,-589 500.5,-589 500.5,-589 506.5,-589 512.5,-595 512.5,-601 512.5,-601 512.5,-641 512.5,-641 512.5,-647 506.5,-653 500.5,-653\"/>\r\n",
       "<text text-anchor=\"start\" x=\"425\" y=\"-638.8\" font-family=\"Helvetica,sans-Serif\" font-size=\"14.00\">X</text>\r\n",
       "<text text-anchor=\"start\" x=\"435\" y=\"-638.8\" font-family=\"Helvetica,sans-Serif\" baseline-shift=\"sub\" font-size=\"14.00\">8</text>\r\n",
       "<text text-anchor=\"start\" x=\"442\" y=\"-638.8\" font-family=\"Helvetica,sans-Serif\" font-size=\"14.00\"> ≤ 0.5</text>\r\n",
       "<text text-anchor=\"start\" x=\"401.5\" y=\"-624.8\" font-family=\"Helvetica,sans-Serif\" font-size=\"14.00\">entropy = 0.896</text>\r\n",
       "<text text-anchor=\"start\" x=\"404\" y=\"-610.8\" font-family=\"Helvetica,sans-Serif\" font-size=\"14.00\">samples = 195</text>\r\n",
       "<text text-anchor=\"start\" x=\"398.5\" y=\"-596.8\" font-family=\"Helvetica,sans-Serif\" font-size=\"14.00\">value = [61, 134]</text>\r\n",
       "</g>\r\n",
       "<!-- 11&#45;&gt;13 -->\r\n",
       "<g id=\"edge11\" class=\"edge\"><title>11&#45;&gt;13</title>\r\n",
       "<path fill=\"none\" stroke=\"black\" d=\"M521.91,-688.992C512.329,-679.876 501.734,-669.796 491.735,-660.282\"/>\r\n",
       "<polygon fill=\"black\" stroke=\"black\" points=\"493.889,-657.5 484.231,-653.142 489.064,-662.571 493.889,-657.5\"/>\r\n",
       "</g>\r\n",
       "<!-- 14 -->\r\n",
       "<g id=\"node31\" class=\"node\"><title>14</title>\r\n",
       "<path fill=\"#e68742\" stroke=\"black\" d=\"M634.5,-647.5C634.5,-647.5 542.5,-647.5 542.5,-647.5 536.5,-647.5 530.5,-641.5 530.5,-635.5 530.5,-635.5 530.5,-606.5 530.5,-606.5 530.5,-600.5 536.5,-594.5 542.5,-594.5 542.5,-594.5 634.5,-594.5 634.5,-594.5 640.5,-594.5 646.5,-600.5 646.5,-606.5 646.5,-606.5 646.5,-635.5 646.5,-635.5 646.5,-641.5 640.5,-647.5 634.5,-647.5\"/>\r\n",
       "<text text-anchor=\"start\" x=\"538.5\" y=\"-632.3\" font-family=\"Helvetica,sans-Serif\" font-size=\"14.00\">entropy = 0.267</text>\r\n",
       "<text text-anchor=\"start\" x=\"545\" y=\"-617.3\" font-family=\"Helvetica,sans-Serif\" font-size=\"14.00\">samples = 22</text>\r\n",
       "<text text-anchor=\"start\" x=\"544\" y=\"-602.3\" font-family=\"Helvetica,sans-Serif\" font-size=\"14.00\">value = [21, 1]</text>\r\n",
       "</g>\r\n",
       "<!-- 11&#45;&gt;14 -->\r\n",
       "<g id=\"edge30\" class=\"edge\"><title>11&#45;&gt;14</title>\r\n",
       "<path fill=\"none\" stroke=\"black\" d=\"M565.258,-688.992C568.767,-678.878 572.688,-667.577 576.295,-657.18\"/>\r\n",
       "<polygon fill=\"black\" stroke=\"black\" points=\"579.662,-658.151 579.633,-647.556 573.049,-655.857 579.662,-658.151\"/>\r\n",
       "</g>\r\n",
       "<!-- 15 -->\r\n",
       "<g id=\"node13\" class=\"node\"><title>15</title>\r\n",
       "<path fill=\"#7bbeee\" stroke=\"black\" d=\"M497.5,-553C497.5,-553 399.5,-553 399.5,-553 393.5,-553 387.5,-547 387.5,-541 387.5,-541 387.5,-501 387.5,-501 387.5,-495 393.5,-489 399.5,-489 399.5,-489 497.5,-489 497.5,-489 503.5,-489 509.5,-495 509.5,-501 509.5,-501 509.5,-541 509.5,-541 509.5,-547 503.5,-553 497.5,-553\"/>\r\n",
       "<text text-anchor=\"start\" x=\"418.5\" y=\"-538.8\" font-family=\"Helvetica,sans-Serif\" font-size=\"14.00\">X</text>\r\n",
       "<text text-anchor=\"start\" x=\"428.5\" y=\"-538.8\" font-family=\"Helvetica,sans-Serif\" baseline-shift=\"sub\" font-size=\"14.00\">11</text>\r\n",
       "<text text-anchor=\"start\" x=\"442.5\" y=\"-538.8\" font-family=\"Helvetica,sans-Serif\" font-size=\"14.00\"> ≤ 0.5</text>\r\n",
       "<text text-anchor=\"start\" x=\"398.5\" y=\"-524.8\" font-family=\"Helvetica,sans-Serif\" font-size=\"14.00\">entropy = 0.813</text>\r\n",
       "<text text-anchor=\"start\" x=\"401\" y=\"-510.8\" font-family=\"Helvetica,sans-Serif\" font-size=\"14.00\">samples = 179</text>\r\n",
       "<text text-anchor=\"start\" x=\"395.5\" y=\"-496.8\" font-family=\"Helvetica,sans-Serif\" font-size=\"14.00\">value = [45, 134]</text>\r\n",
       "</g>\r\n",
       "<!-- 13&#45;&gt;15 -->\r\n",
       "<g id=\"edge12\" class=\"edge\"><title>13&#45;&gt;15</title>\r\n",
       "<path fill=\"none\" stroke=\"black\" d=\"M450.551,-588.992C450.302,-580.859 450.029,-571.959 449.767,-563.378\"/>\r\n",
       "<polygon fill=\"black\" stroke=\"black\" points=\"453.258,-563.031 449.453,-553.142 446.261,-563.245 453.258,-563.031\"/>\r\n",
       "</g>\r\n",
       "<!-- 16 -->\r\n",
       "<g id=\"node30\" class=\"node\"><title>16</title>\r\n",
       "<path fill=\"#e58139\" stroke=\"black\" d=\"M621,-547.5C621,-547.5 540,-547.5 540,-547.5 534,-547.5 528,-541.5 528,-535.5 528,-535.5 528,-506.5 528,-506.5 528,-500.5 534,-494.5 540,-494.5 540,-494.5 621,-494.5 621,-494.5 627,-494.5 633,-500.5 633,-506.5 633,-506.5 633,-535.5 633,-535.5 633,-541.5 627,-547.5 621,-547.5\"/>\r\n",
       "<text text-anchor=\"start\" x=\"538.5\" y=\"-532.3\" font-family=\"Helvetica,sans-Serif\" font-size=\"14.00\">entropy = 0.0</text>\r\n",
       "<text text-anchor=\"start\" x=\"537\" y=\"-517.3\" font-family=\"Helvetica,sans-Serif\" font-size=\"14.00\">samples = 16</text>\r\n",
       "<text text-anchor=\"start\" x=\"536\" y=\"-502.3\" font-family=\"Helvetica,sans-Serif\" font-size=\"14.00\">value = [16, 0]</text>\r\n",
       "</g>\r\n",
       "<!-- 13&#45;&gt;16 -->\r\n",
       "<g id=\"edge29\" class=\"edge\"><title>13&#45;&gt;16</title>\r\n",
       "<path fill=\"none\" stroke=\"black\" d=\"M492.316,-588.992C507.139,-577.731 523.9,-564.998 538.798,-553.68\"/>\r\n",
       "<polygon fill=\"black\" stroke=\"black\" points=\"541.014,-556.393 546.859,-547.556 536.779,-550.819 541.014,-556.393\"/>\r\n",
       "</g>\r\n",
       "<!-- 17 -->\r\n",
       "<g id=\"node14\" class=\"node\"><title>17</title>\r\n",
       "<path fill=\"#6ab5eb\" stroke=\"black\" d=\"M483.5,-453C483.5,-453 385.5,-453 385.5,-453 379.5,-453 373.5,-447 373.5,-441 373.5,-441 373.5,-401 373.5,-401 373.5,-395 379.5,-389 385.5,-389 385.5,-389 483.5,-389 483.5,-389 489.5,-389 495.5,-395 495.5,-401 495.5,-401 495.5,-441 495.5,-441 495.5,-447 489.5,-453 483.5,-453\"/>\r\n",
       "<text text-anchor=\"start\" x=\"404.5\" y=\"-438.8\" font-family=\"Helvetica,sans-Serif\" font-size=\"14.00\">X</text>\r\n",
       "<text text-anchor=\"start\" x=\"414.5\" y=\"-438.8\" font-family=\"Helvetica,sans-Serif\" baseline-shift=\"sub\" font-size=\"14.00\">14</text>\r\n",
       "<text text-anchor=\"start\" x=\"428.5\" y=\"-438.8\" font-family=\"Helvetica,sans-Serif\" font-size=\"14.00\"> ≤ 0.5</text>\r\n",
       "<text text-anchor=\"start\" x=\"384.5\" y=\"-424.8\" font-family=\"Helvetica,sans-Serif\" font-size=\"14.00\">entropy = 0.717</text>\r\n",
       "<text text-anchor=\"start\" x=\"387\" y=\"-410.8\" font-family=\"Helvetica,sans-Serif\" font-size=\"14.00\">samples = 167</text>\r\n",
       "<text text-anchor=\"start\" x=\"381.5\" y=\"-396.8\" font-family=\"Helvetica,sans-Serif\" font-size=\"14.00\">value = [33, 134]</text>\r\n",
       "</g>\r\n",
       "<!-- 15&#45;&gt;17 -->\r\n",
       "<g id=\"edge13\" class=\"edge\"><title>15&#45;&gt;17</title>\r\n",
       "<path fill=\"none\" stroke=\"black\" d=\"M444.07,-488.992C442.896,-480.77 441.609,-471.763 440.371,-463.095\"/>\r\n",
       "<polygon fill=\"black\" stroke=\"black\" points=\"443.828,-462.547 438.949,-453.142 436.898,-463.537 443.828,-462.547\"/>\r\n",
       "</g>\r\n",
       "<!-- 18 -->\r\n",
       "<g id=\"node29\" class=\"node\"><title>18</title>\r\n",
       "<path fill=\"#e58139\" stroke=\"black\" d=\"M607,-447.5C607,-447.5 526,-447.5 526,-447.5 520,-447.5 514,-441.5 514,-435.5 514,-435.5 514,-406.5 514,-406.5 514,-400.5 520,-394.5 526,-394.5 526,-394.5 607,-394.5 607,-394.5 613,-394.5 619,-400.5 619,-406.5 619,-406.5 619,-435.5 619,-435.5 619,-441.5 613,-447.5 607,-447.5\"/>\r\n",
       "<text text-anchor=\"start\" x=\"524.5\" y=\"-432.3\" font-family=\"Helvetica,sans-Serif\" font-size=\"14.00\">entropy = 0.0</text>\r\n",
       "<text text-anchor=\"start\" x=\"523\" y=\"-417.3\" font-family=\"Helvetica,sans-Serif\" font-size=\"14.00\">samples = 12</text>\r\n",
       "<text text-anchor=\"start\" x=\"522\" y=\"-402.3\" font-family=\"Helvetica,sans-Serif\" font-size=\"14.00\">value = [12, 0]</text>\r\n",
       "</g>\r\n",
       "<!-- 15&#45;&gt;18 -->\r\n",
       "<g id=\"edge28\" class=\"edge\"><title>15&#45;&gt;18</title>\r\n",
       "<path fill=\"none\" stroke=\"black\" d=\"M485.836,-488.992C499.269,-477.836 514.443,-465.234 527.975,-453.995\"/>\r\n",
       "<polygon fill=\"black\" stroke=\"black\" points=\"530.271,-456.638 535.728,-447.556 525.799,-451.253 530.271,-456.638\"/>\r\n",
       "</g>\r\n",
       "<!-- 19 -->\r\n",
       "<g id=\"node15\" class=\"node\"><title>19</title>\r\n",
       "<path fill=\"#57ace9\" stroke=\"black\" d=\"M482.5,-353C482.5,-353 384.5,-353 384.5,-353 378.5,-353 372.5,-347 372.5,-341 372.5,-341 372.5,-301 372.5,-301 372.5,-295 378.5,-289 384.5,-289 384.5,-289 482.5,-289 482.5,-289 488.5,-289 494.5,-295 494.5,-301 494.5,-301 494.5,-341 494.5,-341 494.5,-347 488.5,-353 482.5,-353\"/>\r\n",
       "<text text-anchor=\"start\" x=\"403.5\" y=\"-338.8\" font-family=\"Helvetica,sans-Serif\" font-size=\"14.00\">X</text>\r\n",
       "<text text-anchor=\"start\" x=\"413.5\" y=\"-338.8\" font-family=\"Helvetica,sans-Serif\" baseline-shift=\"sub\" font-size=\"14.00\">10</text>\r\n",
       "<text text-anchor=\"start\" x=\"427.5\" y=\"-338.8\" font-family=\"Helvetica,sans-Serif\" font-size=\"14.00\"> ≤ 0.5</text>\r\n",
       "<text text-anchor=\"start\" x=\"383.5\" y=\"-324.8\" font-family=\"Helvetica,sans-Serif\" font-size=\"14.00\">entropy = 0.559</text>\r\n",
       "<text text-anchor=\"start\" x=\"386\" y=\"-310.8\" font-family=\"Helvetica,sans-Serif\" font-size=\"14.00\">samples = 153</text>\r\n",
       "<text text-anchor=\"start\" x=\"380.5\" y=\"-296.8\" font-family=\"Helvetica,sans-Serif\" font-size=\"14.00\">value = [20, 133]</text>\r\n",
       "</g>\r\n",
       "<!-- 17&#45;&gt;19 -->\r\n",
       "<g id=\"edge14\" class=\"edge\"><title>17&#45;&gt;19</title>\r\n",
       "<path fill=\"none\" stroke=\"black\" d=\"M434.184,-388.992C434.101,-380.859 434.01,-371.959 433.922,-363.378\"/>\r\n",
       "<polygon fill=\"black\" stroke=\"black\" points=\"437.42,-363.106 433.818,-353.142 430.42,-363.178 437.42,-363.106\"/>\r\n",
       "</g>\r\n",
       "<!-- 20 -->\r\n",
       "<g id=\"node28\" class=\"node\"><title>20</title>\r\n",
       "<path fill=\"#e78b48\" stroke=\"black\" d=\"M616.5,-347.5C616.5,-347.5 524.5,-347.5 524.5,-347.5 518.5,-347.5 512.5,-341.5 512.5,-335.5 512.5,-335.5 512.5,-306.5 512.5,-306.5 512.5,-300.5 518.5,-294.5 524.5,-294.5 524.5,-294.5 616.5,-294.5 616.5,-294.5 622.5,-294.5 628.5,-300.5 628.5,-306.5 628.5,-306.5 628.5,-335.5 628.5,-335.5 628.5,-341.5 622.5,-347.5 616.5,-347.5\"/>\r\n",
       "<text text-anchor=\"start\" x=\"520.5\" y=\"-332.3\" font-family=\"Helvetica,sans-Serif\" font-size=\"14.00\">entropy = 0.371</text>\r\n",
       "<text text-anchor=\"start\" x=\"527\" y=\"-317.3\" font-family=\"Helvetica,sans-Serif\" font-size=\"14.00\">samples = 14</text>\r\n",
       "<text text-anchor=\"start\" x=\"526\" y=\"-302.3\" font-family=\"Helvetica,sans-Serif\" font-size=\"14.00\">value = [13, 1]</text>\r\n",
       "</g>\r\n",
       "<!-- 17&#45;&gt;20 -->\r\n",
       "<g id=\"edge27\" class=\"edge\"><title>17&#45;&gt;20</title>\r\n",
       "<path fill=\"none\" stroke=\"black\" d=\"M477.531,-388.992C493.158,-377.731 510.829,-364.998 526.535,-353.68\"/>\r\n",
       "<polygon fill=\"black\" stroke=\"black\" points=\"528.967,-356.242 535.034,-347.556 524.875,-350.563 528.967,-356.242\"/>\r\n",
       "</g>\r\n",
       "<!-- 21 -->\r\n",
       "<g id=\"node16\" class=\"node\"><title>21</title>\r\n",
       "<path fill=\"#45a3e7\" stroke=\"black\" d=\"M412.5,-253C412.5,-253 320.5,-253 320.5,-253 314.5,-253 308.5,-247 308.5,-241 308.5,-241 308.5,-201 308.5,-201 308.5,-195 314.5,-189 320.5,-189 320.5,-189 412.5,-189 412.5,-189 418.5,-189 424.5,-195 424.5,-201 424.5,-201 424.5,-241 424.5,-241 424.5,-247 418.5,-253 412.5,-253\"/>\r\n",
       "<text text-anchor=\"start\" x=\"340\" y=\"-238.8\" font-family=\"Helvetica,sans-Serif\" font-size=\"14.00\">X</text>\r\n",
       "<text text-anchor=\"start\" x=\"350\" y=\"-238.8\" font-family=\"Helvetica,sans-Serif\" baseline-shift=\"sub\" font-size=\"14.00\">9</text>\r\n",
       "<text text-anchor=\"start\" x=\"357\" y=\"-238.8\" font-family=\"Helvetica,sans-Serif\" font-size=\"14.00\"> ≤ 0.5</text>\r\n",
       "<text text-anchor=\"start\" x=\"316.5\" y=\"-224.8\" font-family=\"Helvetica,sans-Serif\" font-size=\"14.00\">entropy = 0.319</text>\r\n",
       "<text text-anchor=\"start\" x=\"319\" y=\"-210.8\" font-family=\"Helvetica,sans-Serif\" font-size=\"14.00\">samples = 138</text>\r\n",
       "<text text-anchor=\"start\" x=\"318\" y=\"-196.8\" font-family=\"Helvetica,sans-Serif\" font-size=\"14.00\">value = [8, 130]</text>\r\n",
       "</g>\r\n",
       "<!-- 19&#45;&gt;21 -->\r\n",
       "<g id=\"edge15\" class=\"edge\"><title>19&#45;&gt;21</title>\r\n",
       "<path fill=\"none\" stroke=\"black\" d=\"M412.301,-288.992C406.313,-280.234 399.716,-270.585 393.439,-261.404\"/>\r\n",
       "<polygon fill=\"black\" stroke=\"black\" points=\"396.324,-259.422 387.791,-253.142 390.546,-263.373 396.324,-259.422\"/>\r\n",
       "</g>\r\n",
       "<!-- 22 -->\r\n",
       "<g id=\"node23\" class=\"node\"><title>22</title>\r\n",
       "<path fill=\"#eca06a\" stroke=\"black\" d=\"M592.5,-253C592.5,-253 500.5,-253 500.5,-253 494.5,-253 488.5,-247 488.5,-241 488.5,-241 488.5,-201 488.5,-201 488.5,-195 494.5,-189 500.5,-189 500.5,-189 592.5,-189 592.5,-189 598.5,-189 604.5,-195 604.5,-201 604.5,-201 604.5,-241 604.5,-241 604.5,-247 598.5,-253 592.5,-253\"/>\r\n",
       "<text text-anchor=\"start\" x=\"507.5\" y=\"-238.8\" font-family=\"Helvetica,sans-Serif\" font-size=\"14.00\">X</text>\r\n",
       "<text text-anchor=\"start\" x=\"517.5\" y=\"-238.8\" font-family=\"Helvetica,sans-Serif\" baseline-shift=\"sub\" font-size=\"14.00\">1</text>\r\n",
       "<text text-anchor=\"start\" x=\"524.5\" y=\"-238.8\" font-family=\"Helvetica,sans-Serif\" font-size=\"14.00\"> ≤ 8047.5</text>\r\n",
       "<text text-anchor=\"start\" x=\"496.5\" y=\"-224.8\" font-family=\"Helvetica,sans-Serif\" font-size=\"14.00\">entropy = 0.722</text>\r\n",
       "<text text-anchor=\"start\" x=\"503\" y=\"-210.8\" font-family=\"Helvetica,sans-Serif\" font-size=\"14.00\">samples = 15</text>\r\n",
       "<text text-anchor=\"start\" x=\"502\" y=\"-196.8\" font-family=\"Helvetica,sans-Serif\" font-size=\"14.00\">value = [12, 3]</text>\r\n",
       "</g>\r\n",
       "<!-- 19&#45;&gt;22 -->\r\n",
       "<g id=\"edge22\" class=\"edge\"><title>19&#45;&gt;22</title>\r\n",
       "<path fill=\"none\" stroke=\"black\" d=\"M469.254,-288.992C479.971,-279.698 491.845,-269.4 503.003,-259.723\"/>\r\n",
       "<polygon fill=\"black\" stroke=\"black\" points=\"505.329,-262.338 510.591,-253.142 500.743,-257.05 505.329,-262.338\"/>\r\n",
       "</g>\r\n",
       "<!-- 23 -->\r\n",
       "<g id=\"node17\" class=\"node\"><title>23</title>\r\n",
       "<path fill=\"#3b9ee5\" stroke=\"black\" d=\"M231.5,-153C231.5,-153 139.5,-153 139.5,-153 133.5,-153 127.5,-147 127.5,-141 127.5,-141 127.5,-101 127.5,-101 127.5,-95 133.5,-89 139.5,-89 139.5,-89 231.5,-89 231.5,-89 237.5,-89 243.5,-95 243.5,-101 243.5,-101 243.5,-141 243.5,-141 243.5,-147 237.5,-153 231.5,-153\"/>\r\n",
       "<text text-anchor=\"start\" x=\"155.5\" y=\"-138.8\" font-family=\"Helvetica,sans-Serif\" font-size=\"14.00\">X</text>\r\n",
       "<text text-anchor=\"start\" x=\"165.5\" y=\"-138.8\" font-family=\"Helvetica,sans-Serif\" baseline-shift=\"sub\" font-size=\"14.00\">12</text>\r\n",
       "<text text-anchor=\"start\" x=\"179.5\" y=\"-138.8\" font-family=\"Helvetica,sans-Serif\" font-size=\"14.00\"> ≤ 0.5</text>\r\n",
       "<text text-anchor=\"start\" x=\"135.5\" y=\"-124.8\" font-family=\"Helvetica,sans-Serif\" font-size=\"14.00\">entropy = 0.065</text>\r\n",
       "<text text-anchor=\"start\" x=\"138\" y=\"-110.8\" font-family=\"Helvetica,sans-Serif\" font-size=\"14.00\">samples = 130</text>\r\n",
       "<text text-anchor=\"start\" x=\"137\" y=\"-96.8\" font-family=\"Helvetica,sans-Serif\" font-size=\"14.00\">value = [1, 129]</text>\r\n",
       "</g>\r\n",
       "<!-- 21&#45;&gt;23 -->\r\n",
       "<g id=\"edge16\" class=\"edge\"><title>21&#45;&gt;23</title>\r\n",
       "<path fill=\"none\" stroke=\"black\" d=\"M309.23,-188.992C290.991,-179.117 270.66,-168.109 251.835,-157.916\"/>\r\n",
       "<polygon fill=\"black\" stroke=\"black\" points=\"253.478,-154.826 243.018,-153.142 250.146,-160.982 253.478,-154.826\"/>\r\n",
       "</g>\r\n",
       "<!-- 24 -->\r\n",
       "<g id=\"node20\" class=\"node\"><title>24</title>\r\n",
       "<path fill=\"#e99355\" stroke=\"black\" d=\"M412.5,-153C412.5,-153 320.5,-153 320.5,-153 314.5,-153 308.5,-147 308.5,-141 308.5,-141 308.5,-101 308.5,-101 308.5,-95 314.5,-89 320.5,-89 320.5,-89 412.5,-89 412.5,-89 418.5,-89 424.5,-95 424.5,-101 424.5,-101 424.5,-141 424.5,-141 424.5,-147 418.5,-153 412.5,-153\"/>\r\n",
       "<text text-anchor=\"start\" x=\"323.5\" y=\"-138.8\" font-family=\"Helvetica,sans-Serif\" font-size=\"14.00\">X</text>\r\n",
       "<text text-anchor=\"start\" x=\"333.5\" y=\"-138.8\" font-family=\"Helvetica,sans-Serif\" baseline-shift=\"sub\" font-size=\"14.00\">3</text>\r\n",
       "<text text-anchor=\"start\" x=\"340.5\" y=\"-138.8\" font-family=\"Helvetica,sans-Serif\" font-size=\"14.00\"> ≤ 30000.0</text>\r\n",
       "<text text-anchor=\"start\" x=\"316.5\" y=\"-124.8\" font-family=\"Helvetica,sans-Serif\" font-size=\"14.00\">entropy = 0.544</text>\r\n",
       "<text text-anchor=\"start\" x=\"327\" y=\"-110.8\" font-family=\"Helvetica,sans-Serif\" font-size=\"14.00\">samples = 8</text>\r\n",
       "<text text-anchor=\"start\" x=\"326\" y=\"-96.8\" font-family=\"Helvetica,sans-Serif\" font-size=\"14.00\">value = [7, 1]</text>\r\n",
       "</g>\r\n",
       "<!-- 21&#45;&gt;24 -->\r\n",
       "<g id=\"edge19\" class=\"edge\"><title>21&#45;&gt;24</title>\r\n",
       "<path fill=\"none\" stroke=\"black\" d=\"M366.5,-188.992C366.5,-180.859 366.5,-171.959 366.5,-163.378\"/>\r\n",
       "<polygon fill=\"black\" stroke=\"black\" points=\"370,-163.142 366.5,-153.142 363,-163.142 370,-163.142\"/>\r\n",
       "</g>\r\n",
       "<!-- 53 -->\r\n",
       "<g id=\"node18\" class=\"node\"><title>53</title>\r\n",
       "<path fill=\"#399de5\" stroke=\"black\" d=\"M101,-53C101,-53 12,-53 12,-53 6,-53 0,-47 0,-41 0,-41 0,-12 0,-12 0,-6 6,-0 12,-0 12,-0 101,-0 101,-0 107,-0 113,-6 113,-12 113,-12 113,-41 113,-41 113,-47 107,-53 101,-53\"/>\r\n",
       "<text text-anchor=\"start\" x=\"14.5\" y=\"-37.8\" font-family=\"Helvetica,sans-Serif\" font-size=\"14.00\">entropy = 0.0</text>\r\n",
       "<text text-anchor=\"start\" x=\"9\" y=\"-22.8\" font-family=\"Helvetica,sans-Serif\" font-size=\"14.00\">samples = 124</text>\r\n",
       "<text text-anchor=\"start\" x=\"8\" y=\"-7.8\" font-family=\"Helvetica,sans-Serif\" font-size=\"14.00\">value = [0, 124]</text>\r\n",
       "</g>\r\n",
       "<!-- 23&#45;&gt;53 -->\r\n",
       "<g id=\"edge17\" class=\"edge\"><title>23&#45;&gt;53</title>\r\n",
       "<path fill=\"none\" stroke=\"black\" d=\"M142.186,-88.9415C128.73,-79.2925 113.889,-68.6511 100.394,-58.9741\"/>\r\n",
       "<polygon fill=\"black\" stroke=\"black\" points=\"102.355,-56.0738 92.1888,-53.0908 98.276,-61.7625 102.355,-56.0738\"/>\r\n",
       "</g>\r\n",
       "<!-- 54 -->\r\n",
       "<g id=\"node19\" class=\"node\"><title>54</title>\r\n",
       "<path fill=\"#61b1ea\" stroke=\"black\" d=\"M227.5,-53C227.5,-53 143.5,-53 143.5,-53 137.5,-53 131.5,-47 131.5,-41 131.5,-41 131.5,-12 131.5,-12 131.5,-6 137.5,-0 143.5,-0 143.5,-0 227.5,-0 227.5,-0 233.5,-0 239.5,-6 239.5,-12 239.5,-12 239.5,-41 239.5,-41 239.5,-47 233.5,-53 227.5,-53\"/>\r\n",
       "<text text-anchor=\"start\" x=\"139.5\" y=\"-37.8\" font-family=\"Helvetica,sans-Serif\" font-size=\"14.00\">entropy = 0.65</text>\r\n",
       "<text text-anchor=\"start\" x=\"146\" y=\"-22.8\" font-family=\"Helvetica,sans-Serif\" font-size=\"14.00\">samples = 6</text>\r\n",
       "<text text-anchor=\"start\" x=\"145\" y=\"-7.8\" font-family=\"Helvetica,sans-Serif\" font-size=\"14.00\">value = [1, 5]</text>\r\n",
       "</g>\r\n",
       "<!-- 23&#45;&gt;54 -->\r\n",
       "<g id=\"edge18\" class=\"edge\"><title>23&#45;&gt;54</title>\r\n",
       "<path fill=\"none\" stroke=\"black\" d=\"M185.5,-88.9415C185.5,-80.6579 185.5,-71.643 185.5,-63.1346\"/>\r\n",
       "<polygon fill=\"black\" stroke=\"black\" points=\"189,-63.0908 185.5,-53.0908 182,-63.0909 189,-63.0908\"/>\r\n",
       "</g>\r\n",
       "<!-- 55 -->\r\n",
       "<g id=\"node21\" class=\"node\"><title>55</title>\r\n",
       "<path fill=\"#399de5\" stroke=\"black\" d=\"M345.5,-53C345.5,-53 269.5,-53 269.5,-53 263.5,-53 257.5,-47 257.5,-41 257.5,-41 257.5,-12 257.5,-12 257.5,-6 263.5,-0 269.5,-0 269.5,-0 345.5,-0 345.5,-0 351.5,-0 357.5,-6 357.5,-12 357.5,-12 357.5,-41 357.5,-41 357.5,-47 351.5,-53 345.5,-53\"/>\r\n",
       "<text text-anchor=\"start\" x=\"265.5\" y=\"-37.8\" font-family=\"Helvetica,sans-Serif\" font-size=\"14.00\">entropy = 0.0</text>\r\n",
       "<text text-anchor=\"start\" x=\"268\" y=\"-22.8\" font-family=\"Helvetica,sans-Serif\" font-size=\"14.00\">samples = 1</text>\r\n",
       "<text text-anchor=\"start\" x=\"267\" y=\"-7.8\" font-family=\"Helvetica,sans-Serif\" font-size=\"14.00\">value = [0, 1]</text>\r\n",
       "</g>\r\n",
       "<!-- 24&#45;&gt;55 -->\r\n",
       "<g id=\"edge20\" class=\"edge\"><title>24&#45;&gt;55</title>\r\n",
       "<path fill=\"none\" stroke=\"black\" d=\"M346.69,-88.9415C341.116,-80.2028 335.023,-70.6501 329.338,-61.737\"/>\r\n",
       "<polygon fill=\"black\" stroke=\"black\" points=\"332.151,-59.6397 323.823,-53.0908 326.25,-63.404 332.151,-59.6397\"/>\r\n",
       "</g>\r\n",
       "<!-- 56 -->\r\n",
       "<g id=\"node22\" class=\"node\"><title>56</title>\r\n",
       "<path fill=\"#e58139\" stroke=\"black\" d=\"M463.5,-53C463.5,-53 387.5,-53 387.5,-53 381.5,-53 375.5,-47 375.5,-41 375.5,-41 375.5,-12 375.5,-12 375.5,-6 381.5,-0 387.5,-0 387.5,-0 463.5,-0 463.5,-0 469.5,-0 475.5,-6 475.5,-12 475.5,-12 475.5,-41 475.5,-41 475.5,-47 469.5,-53 463.5,-53\"/>\r\n",
       "<text text-anchor=\"start\" x=\"383.5\" y=\"-37.8\" font-family=\"Helvetica,sans-Serif\" font-size=\"14.00\">entropy = 0.0</text>\r\n",
       "<text text-anchor=\"start\" x=\"386\" y=\"-22.8\" font-family=\"Helvetica,sans-Serif\" font-size=\"14.00\">samples = 7</text>\r\n",
       "<text text-anchor=\"start\" x=\"385\" y=\"-7.8\" font-family=\"Helvetica,sans-Serif\" font-size=\"14.00\">value = [7, 0]</text>\r\n",
       "</g>\r\n",
       "<!-- 24&#45;&gt;56 -->\r\n",
       "<g id=\"edge21\" class=\"edge\"><title>24&#45;&gt;56</title>\r\n",
       "<path fill=\"none\" stroke=\"black\" d=\"M386.31,-88.9415C391.884,-80.2028 397.977,-70.6501 403.662,-61.737\"/>\r\n",
       "<polygon fill=\"black\" stroke=\"black\" points=\"406.75,-63.404 409.177,-53.0908 400.849,-59.6397 406.75,-63.404\"/>\r\n",
       "</g>\r\n",
       "<!-- 49 -->\r\n",
       "<g id=\"node24\" class=\"node\"><title>49</title>\r\n",
       "<path fill=\"#e78c49\" stroke=\"black\" d=\"M592.5,-153C592.5,-153 500.5,-153 500.5,-153 494.5,-153 488.5,-147 488.5,-141 488.5,-141 488.5,-101 488.5,-101 488.5,-95 494.5,-89 500.5,-89 500.5,-89 592.5,-89 592.5,-89 598.5,-89 604.5,-95 604.5,-101 604.5,-101 604.5,-141 604.5,-141 604.5,-147 598.5,-153 592.5,-153\"/>\r\n",
       "<text text-anchor=\"start\" x=\"516.5\" y=\"-138.8\" font-family=\"Helvetica,sans-Serif\" font-size=\"14.00\">X</text>\r\n",
       "<text text-anchor=\"start\" x=\"526.5\" y=\"-138.8\" font-family=\"Helvetica,sans-Serif\" baseline-shift=\"sub\" font-size=\"14.00\">45</text>\r\n",
       "<text text-anchor=\"start\" x=\"540.5\" y=\"-138.8\" font-family=\"Helvetica,sans-Serif\" font-size=\"14.00\"> ≤ 0.5</text>\r\n",
       "<text text-anchor=\"start\" x=\"496.5\" y=\"-124.8\" font-family=\"Helvetica,sans-Serif\" font-size=\"14.00\">entropy = 0.391</text>\r\n",
       "<text text-anchor=\"start\" x=\"503\" y=\"-110.8\" font-family=\"Helvetica,sans-Serif\" font-size=\"14.00\">samples = 13</text>\r\n",
       "<text text-anchor=\"start\" x=\"502\" y=\"-96.8\" font-family=\"Helvetica,sans-Serif\" font-size=\"14.00\">value = [12, 1]</text>\r\n",
       "</g>\r\n",
       "<!-- 22&#45;&gt;49 -->\r\n",
       "<g id=\"edge23\" class=\"edge\"><title>22&#45;&gt;49</title>\r\n",
       "<path fill=\"none\" stroke=\"black\" d=\"M546.5,-188.992C546.5,-180.859 546.5,-171.959 546.5,-163.378\"/>\r\n",
       "<polygon fill=\"black\" stroke=\"black\" points=\"550,-163.142 546.5,-153.142 543,-163.142 550,-163.142\"/>\r\n",
       "</g>\r\n",
       "<!-- 50 -->\r\n",
       "<g id=\"node27\" class=\"node\"><title>50</title>\r\n",
       "<path fill=\"#399de5\" stroke=\"black\" d=\"M710.5,-147.5C710.5,-147.5 634.5,-147.5 634.5,-147.5 628.5,-147.5 622.5,-141.5 622.5,-135.5 622.5,-135.5 622.5,-106.5 622.5,-106.5 622.5,-100.5 628.5,-94.5 634.5,-94.5 634.5,-94.5 710.5,-94.5 710.5,-94.5 716.5,-94.5 722.5,-100.5 722.5,-106.5 722.5,-106.5 722.5,-135.5 722.5,-135.5 722.5,-141.5 716.5,-147.5 710.5,-147.5\"/>\r\n",
       "<text text-anchor=\"start\" x=\"630.5\" y=\"-132.3\" font-family=\"Helvetica,sans-Serif\" font-size=\"14.00\">entropy = 0.0</text>\r\n",
       "<text text-anchor=\"start\" x=\"633\" y=\"-117.3\" font-family=\"Helvetica,sans-Serif\" font-size=\"14.00\">samples = 2</text>\r\n",
       "<text text-anchor=\"start\" x=\"632\" y=\"-102.3\" font-family=\"Helvetica,sans-Serif\" font-size=\"14.00\">value = [0, 2]</text>\r\n",
       "</g>\r\n",
       "<!-- 22&#45;&gt;50 -->\r\n",
       "<g id=\"edge26\" class=\"edge\"><title>22&#45;&gt;50</title>\r\n",
       "<path fill=\"none\" stroke=\"black\" d=\"M586.367,-188.992C600.711,-177.836 616.913,-165.234 631.363,-153.995\"/>\r\n",
       "<polygon fill=\"black\" stroke=\"black\" points=\"633.897,-156.459 639.642,-147.556 629.599,-150.933 633.897,-156.459\"/>\r\n",
       "</g>\r\n",
       "<!-- 51 -->\r\n",
       "<g id=\"node25\" class=\"node\"><title>51</title>\r\n",
       "<path fill=\"#e58139\" stroke=\"black\" d=\"M587,-53C587,-53 506,-53 506,-53 500,-53 494,-47 494,-41 494,-41 494,-12 494,-12 494,-6 500,-0 506,-0 506,-0 587,-0 587,-0 593,-0 599,-6 599,-12 599,-12 599,-41 599,-41 599,-47 593,-53 587,-53\"/>\r\n",
       "<text text-anchor=\"start\" x=\"504.5\" y=\"-37.8\" font-family=\"Helvetica,sans-Serif\" font-size=\"14.00\">entropy = 0.0</text>\r\n",
       "<text text-anchor=\"start\" x=\"503\" y=\"-22.8\" font-family=\"Helvetica,sans-Serif\" font-size=\"14.00\">samples = 12</text>\r\n",
       "<text text-anchor=\"start\" x=\"502\" y=\"-7.8\" font-family=\"Helvetica,sans-Serif\" font-size=\"14.00\">value = [12, 0]</text>\r\n",
       "</g>\r\n",
       "<!-- 49&#45;&gt;51 -->\r\n",
       "<g id=\"edge24\" class=\"edge\"><title>49&#45;&gt;51</title>\r\n",
       "<path fill=\"none\" stroke=\"black\" d=\"M546.5,-88.9415C546.5,-80.6579 546.5,-71.643 546.5,-63.1346\"/>\r\n",
       "<polygon fill=\"black\" stroke=\"black\" points=\"550,-63.0908 546.5,-53.0908 543,-63.0909 550,-63.0908\"/>\r\n",
       "</g>\r\n",
       "<!-- 52 -->\r\n",
       "<g id=\"node26\" class=\"node\"><title>52</title>\r\n",
       "<path fill=\"#399de5\" stroke=\"black\" d=\"M705.5,-53C705.5,-53 629.5,-53 629.5,-53 623.5,-53 617.5,-47 617.5,-41 617.5,-41 617.5,-12 617.5,-12 617.5,-6 623.5,-0 629.5,-0 629.5,-0 705.5,-0 705.5,-0 711.5,-0 717.5,-6 717.5,-12 717.5,-12 717.5,-41 717.5,-41 717.5,-47 711.5,-53 705.5,-53\"/>\r\n",
       "<text text-anchor=\"start\" x=\"625.5\" y=\"-37.8\" font-family=\"Helvetica,sans-Serif\" font-size=\"14.00\">entropy = 0.0</text>\r\n",
       "<text text-anchor=\"start\" x=\"628\" y=\"-22.8\" font-family=\"Helvetica,sans-Serif\" font-size=\"14.00\">samples = 1</text>\r\n",
       "<text text-anchor=\"start\" x=\"627\" y=\"-7.8\" font-family=\"Helvetica,sans-Serif\" font-size=\"14.00\">value = [0, 1]</text>\r\n",
       "</g>\r\n",
       "<!-- 49&#45;&gt;52 -->\r\n",
       "<g id=\"edge25\" class=\"edge\"><title>49&#45;&gt;52</title>\r\n",
       "<path fill=\"none\" stroke=\"black\" d=\"M587.128,-88.9415C599.631,-79.3835 613.407,-68.8518 625.97,-59.2482\"/>\r\n",
       "<polygon fill=\"black\" stroke=\"black\" points=\"628.206,-61.9447 634.024,-53.0908 623.954,-56.3836 628.206,-61.9447\"/>\r\n",
       "</g>\r\n",
       "<!-- 37 -->\r\n",
       "<g id=\"node35\" class=\"node\"><title>37</title>\r\n",
       "<path fill=\"#e5823b\" stroke=\"black\" d=\"M978.5,-953C978.5,-953 886.5,-953 886.5,-953 880.5,-953 874.5,-947 874.5,-941 874.5,-941 874.5,-901 874.5,-901 874.5,-895 880.5,-889 886.5,-889 886.5,-889 978.5,-889 978.5,-889 984.5,-889 990.5,-895 990.5,-901 990.5,-901 990.5,-941 990.5,-941 990.5,-947 984.5,-953 978.5,-953\"/>\r\n",
       "<text text-anchor=\"start\" x=\"906\" y=\"-938.8\" font-family=\"Helvetica,sans-Serif\" font-size=\"14.00\">X</text>\r\n",
       "<text text-anchor=\"start\" x=\"916\" y=\"-938.8\" font-family=\"Helvetica,sans-Serif\" baseline-shift=\"sub\" font-size=\"14.00\">5</text>\r\n",
       "<text text-anchor=\"start\" x=\"923\" y=\"-938.8\" font-family=\"Helvetica,sans-Serif\" font-size=\"14.00\"> ≤ 0.5</text>\r\n",
       "<text text-anchor=\"start\" x=\"882.5\" y=\"-924.8\" font-family=\"Helvetica,sans-Serif\" font-size=\"14.00\">entropy = 0.091</text>\r\n",
       "<text text-anchor=\"start\" x=\"889\" y=\"-910.8\" font-family=\"Helvetica,sans-Serif\" font-size=\"14.00\">samples = 87</text>\r\n",
       "<text text-anchor=\"start\" x=\"888\" y=\"-896.8\" font-family=\"Helvetica,sans-Serif\" font-size=\"14.00\">value = [86, 1]</text>\r\n",
       "</g>\r\n",
       "<!-- 4&#45;&gt;37 -->\r\n",
       "<g id=\"edge34\" class=\"edge\"><title>4&#45;&gt;37</title>\r\n",
       "<path fill=\"none\" stroke=\"black\" d=\"M976.934,-988.992C971.184,-980.323 964.855,-970.782 958.822,-961.685\"/>\r\n",
       "<polygon fill=\"black\" stroke=\"black\" points=\"961.6,-959.541 953.156,-953.142 955.766,-963.411 961.6,-959.541\"/>\r\n",
       "</g>\r\n",
       "<!-- 38 -->\r\n",
       "<g id=\"node38\" class=\"node\"><title>38</title>\r\n",
       "<path fill=\"#f1b991\" stroke=\"black\" d=\"M1104.5,-953C1104.5,-953 1020.5,-953 1020.5,-953 1014.5,-953 1008.5,-947 1008.5,-941 1008.5,-941 1008.5,-901 1008.5,-901 1008.5,-895 1014.5,-889 1020.5,-889 1020.5,-889 1104.5,-889 1104.5,-889 1110.5,-889 1116.5,-895 1116.5,-901 1116.5,-901 1116.5,-941 1116.5,-941 1116.5,-947 1110.5,-953 1104.5,-953\"/>\r\n",
       "<text text-anchor=\"start\" x=\"1023.5\" y=\"-938.8\" font-family=\"Helvetica,sans-Serif\" font-size=\"14.00\">X</text>\r\n",
       "<text text-anchor=\"start\" x=\"1033.5\" y=\"-938.8\" font-family=\"Helvetica,sans-Serif\" baseline-shift=\"sub\" font-size=\"14.00\">3</text>\r\n",
       "<text text-anchor=\"start\" x=\"1040.5\" y=\"-938.8\" font-family=\"Helvetica,sans-Serif\" font-size=\"14.00\"> ≤ 5500.0</text>\r\n",
       "<text text-anchor=\"start\" x=\"1016.5\" y=\"-924.8\" font-family=\"Helvetica,sans-Serif\" font-size=\"14.00\">entropy = 0.89</text>\r\n",
       "<text text-anchor=\"start\" x=\"1019\" y=\"-910.8\" font-family=\"Helvetica,sans-Serif\" font-size=\"14.00\">samples = 13</text>\r\n",
       "<text text-anchor=\"start\" x=\"1022\" y=\"-896.8\" font-family=\"Helvetica,sans-Serif\" font-size=\"14.00\">value = [9, 4]</text>\r\n",
       "</g>\r\n",
       "<!-- 4&#45;&gt;38 -->\r\n",
       "<g id=\"edge37\" class=\"edge\"><title>4&#45;&gt;38</title>\r\n",
       "<path fill=\"none\" stroke=\"black\" d=\"M1018.07,-988.992C1023.82,-980.323 1030.14,-970.782 1036.18,-961.685\"/>\r\n",
       "<polygon fill=\"black\" stroke=\"black\" points=\"1039.23,-963.411 1041.84,-953.142 1033.4,-959.541 1039.23,-963.411\"/>\r\n",
       "</g>\r\n",
       "<!-- 47 -->\r\n",
       "<g id=\"node36\" class=\"node\"><title>47</title>\r\n",
       "<path fill=\"#e58139\" stroke=\"black\" d=\"M858,-847.5C858,-847.5 777,-847.5 777,-847.5 771,-847.5 765,-841.5 765,-835.5 765,-835.5 765,-806.5 765,-806.5 765,-800.5 771,-794.5 777,-794.5 777,-794.5 858,-794.5 858,-794.5 864,-794.5 870,-800.5 870,-806.5 870,-806.5 870,-835.5 870,-835.5 870,-841.5 864,-847.5 858,-847.5\"/>\r\n",
       "<text text-anchor=\"start\" x=\"775.5\" y=\"-832.3\" font-family=\"Helvetica,sans-Serif\" font-size=\"14.00\">entropy = 0.0</text>\r\n",
       "<text text-anchor=\"start\" x=\"774\" y=\"-817.3\" font-family=\"Helvetica,sans-Serif\" font-size=\"14.00\">samples = 85</text>\r\n",
       "<text text-anchor=\"start\" x=\"773\" y=\"-802.3\" font-family=\"Helvetica,sans-Serif\" font-size=\"14.00\">value = [85, 0]</text>\r\n",
       "</g>\r\n",
       "<!-- 37&#45;&gt;47 -->\r\n",
       "<g id=\"edge35\" class=\"edge\"><title>37&#45;&gt;47</title>\r\n",
       "<path fill=\"none\" stroke=\"black\" d=\"M896.113,-888.992C883.144,-877.94 868.51,-865.47 855.415,-854.311\"/>\r\n",
       "<polygon fill=\"black\" stroke=\"black\" points=\"857.371,-851.379 847.49,-847.556 852.831,-856.706 857.371,-851.379\"/>\r\n",
       "</g>\r\n",
       "<!-- 48 -->\r\n",
       "<g id=\"node37\" class=\"node\"><title>48</title>\r\n",
       "<path fill=\"#ffffff\" stroke=\"black\" d=\"M976.5,-847.5C976.5,-847.5 900.5,-847.5 900.5,-847.5 894.5,-847.5 888.5,-841.5 888.5,-835.5 888.5,-835.5 888.5,-806.5 888.5,-806.5 888.5,-800.5 894.5,-794.5 900.5,-794.5 900.5,-794.5 976.5,-794.5 976.5,-794.5 982.5,-794.5 988.5,-800.5 988.5,-806.5 988.5,-806.5 988.5,-835.5 988.5,-835.5 988.5,-841.5 982.5,-847.5 976.5,-847.5\"/>\r\n",
       "<text text-anchor=\"start\" x=\"896.5\" y=\"-832.3\" font-family=\"Helvetica,sans-Serif\" font-size=\"14.00\">entropy = 1.0</text>\r\n",
       "<text text-anchor=\"start\" x=\"899\" y=\"-817.3\" font-family=\"Helvetica,sans-Serif\" font-size=\"14.00\">samples = 2</text>\r\n",
       "<text text-anchor=\"start\" x=\"898\" y=\"-802.3\" font-family=\"Helvetica,sans-Serif\" font-size=\"14.00\">value = [1, 1]</text>\r\n",
       "</g>\r\n",
       "<!-- 37&#45;&gt;48 -->\r\n",
       "<g id=\"edge36\" class=\"edge\"><title>37&#45;&gt;48</title>\r\n",
       "<path fill=\"none\" stroke=\"black\" d=\"M934.398,-888.992C935.005,-879.087 935.681,-868.042 936.307,-857.824\"/>\r\n",
       "<polygon fill=\"black\" stroke=\"black\" points=\"939.818,-857.752 936.935,-847.556 932.831,-857.324 939.818,-857.752\"/>\r\n",
       "</g>\r\n",
       "<!-- 39 -->\r\n",
       "<g id=\"node39\" class=\"node\"><title>39</title>\r\n",
       "<path fill=\"#399de5\" stroke=\"black\" d=\"M1094.5,-847.5C1094.5,-847.5 1018.5,-847.5 1018.5,-847.5 1012.5,-847.5 1006.5,-841.5 1006.5,-835.5 1006.5,-835.5 1006.5,-806.5 1006.5,-806.5 1006.5,-800.5 1012.5,-794.5 1018.5,-794.5 1018.5,-794.5 1094.5,-794.5 1094.5,-794.5 1100.5,-794.5 1106.5,-800.5 1106.5,-806.5 1106.5,-806.5 1106.5,-835.5 1106.5,-835.5 1106.5,-841.5 1100.5,-847.5 1094.5,-847.5\"/>\r\n",
       "<text text-anchor=\"start\" x=\"1014.5\" y=\"-832.3\" font-family=\"Helvetica,sans-Serif\" font-size=\"14.00\">entropy = 0.0</text>\r\n",
       "<text text-anchor=\"start\" x=\"1017\" y=\"-817.3\" font-family=\"Helvetica,sans-Serif\" font-size=\"14.00\">samples = 4</text>\r\n",
       "<text text-anchor=\"start\" x=\"1016\" y=\"-802.3\" font-family=\"Helvetica,sans-Serif\" font-size=\"14.00\">value = [0, 4]</text>\r\n",
       "</g>\r\n",
       "<!-- 38&#45;&gt;39 -->\r\n",
       "<g id=\"edge38\" class=\"edge\"><title>38&#45;&gt;39</title>\r\n",
       "<path fill=\"none\" stroke=\"black\" d=\"M1060.6,-888.992C1060,-879.087 1059.32,-868.042 1058.69,-857.824\"/>\r\n",
       "<polygon fill=\"black\" stroke=\"black\" points=\"1062.17,-857.324 1058.06,-847.556 1055.18,-857.752 1062.17,-857.324\"/>\r\n",
       "</g>\r\n",
       "<!-- 40 -->\r\n",
       "<g id=\"node40\" class=\"node\"><title>40</title>\r\n",
       "<path fill=\"#e58139\" stroke=\"black\" d=\"M1212.5,-847.5C1212.5,-847.5 1136.5,-847.5 1136.5,-847.5 1130.5,-847.5 1124.5,-841.5 1124.5,-835.5 1124.5,-835.5 1124.5,-806.5 1124.5,-806.5 1124.5,-800.5 1130.5,-794.5 1136.5,-794.5 1136.5,-794.5 1212.5,-794.5 1212.5,-794.5 1218.5,-794.5 1224.5,-800.5 1224.5,-806.5 1224.5,-806.5 1224.5,-835.5 1224.5,-835.5 1224.5,-841.5 1218.5,-847.5 1212.5,-847.5\"/>\r\n",
       "<text text-anchor=\"start\" x=\"1132.5\" y=\"-832.3\" font-family=\"Helvetica,sans-Serif\" font-size=\"14.00\">entropy = 0.0</text>\r\n",
       "<text text-anchor=\"start\" x=\"1135\" y=\"-817.3\" font-family=\"Helvetica,sans-Serif\" font-size=\"14.00\">samples = 9</text>\r\n",
       "<text text-anchor=\"start\" x=\"1134\" y=\"-802.3\" font-family=\"Helvetica,sans-Serif\" font-size=\"14.00\">value = [9, 0]</text>\r\n",
       "</g>\r\n",
       "<!-- 38&#45;&gt;40 -->\r\n",
       "<g id=\"edge39\" class=\"edge\"><title>38&#45;&gt;40</title>\r\n",
       "<path fill=\"none\" stroke=\"black\" d=\"M1097.94,-888.992C1110.57,-877.94 1124.82,-865.47 1137.57,-854.311\"/>\r\n",
       "<polygon fill=\"black\" stroke=\"black\" points=\"1140.07,-856.776 1145.29,-847.556 1135.46,-851.507 1140.07,-856.776\"/>\r\n",
       "</g>\r\n",
       "<!-- 7 -->\r\n",
       "<g id=\"node42\" class=\"node\"><title>7</title>\r\n",
       "<path fill=\"#e68642\" stroke=\"black\" d=\"M1348.5,-1053C1348.5,-1053 1250.5,-1053 1250.5,-1053 1244.5,-1053 1238.5,-1047 1238.5,-1041 1238.5,-1041 1238.5,-1001 1238.5,-1001 1238.5,-995 1244.5,-989 1250.5,-989 1250.5,-989 1348.5,-989 1348.5,-989 1354.5,-989 1360.5,-995 1360.5,-1001 1360.5,-1001 1360.5,-1041 1360.5,-1041 1360.5,-1047 1354.5,-1053 1348.5,-1053\"/>\r\n",
       "<text text-anchor=\"start\" x=\"1269.5\" y=\"-1038.8\" font-family=\"Helvetica,sans-Serif\" font-size=\"14.00\">X</text>\r\n",
       "<text text-anchor=\"start\" x=\"1279.5\" y=\"-1038.8\" font-family=\"Helvetica,sans-Serif\" baseline-shift=\"sub\" font-size=\"14.00\">30</text>\r\n",
       "<text text-anchor=\"start\" x=\"1293.5\" y=\"-1038.8\" font-family=\"Helvetica,sans-Serif\" font-size=\"14.00\"> ≤ 0.5</text>\r\n",
       "<text text-anchor=\"start\" x=\"1249.5\" y=\"-1024.8\" font-family=\"Helvetica,sans-Serif\" font-size=\"14.00\">entropy = 0.248</text>\r\n",
       "<text text-anchor=\"start\" x=\"1252\" y=\"-1010.8\" font-family=\"Helvetica,sans-Serif\" font-size=\"14.00\">samples = 364</text>\r\n",
       "<text text-anchor=\"start\" x=\"1246.5\" y=\"-996.8\" font-family=\"Helvetica,sans-Serif\" font-size=\"14.00\">value = [349, 15]</text>\r\n",
       "</g>\r\n",
       "<!-- 2&#45;&gt;7 -->\r\n",
       "<g id=\"edge41\" class=\"edge\"><title>2&#45;&gt;7</title>\r\n",
       "<path fill=\"none\" stroke=\"black\" d=\"M1299.5,-1088.99C1299.5,-1080.86 1299.5,-1071.96 1299.5,-1063.38\"/>\r\n",
       "<polygon fill=\"black\" stroke=\"black\" points=\"1303,-1063.14 1299.5,-1053.14 1296,-1063.14 1303,-1063.14\"/>\r\n",
       "</g>\r\n",
       "<!-- 8 -->\r\n",
       "<g id=\"node57\" class=\"node\"><title>8</title>\r\n",
       "<path fill=\"#399de5\" stroke=\"black\" d=\"M1472,-1047.5C1472,-1047.5 1391,-1047.5 1391,-1047.5 1385,-1047.5 1379,-1041.5 1379,-1035.5 1379,-1035.5 1379,-1006.5 1379,-1006.5 1379,-1000.5 1385,-994.5 1391,-994.5 1391,-994.5 1472,-994.5 1472,-994.5 1478,-994.5 1484,-1000.5 1484,-1006.5 1484,-1006.5 1484,-1035.5 1484,-1035.5 1484,-1041.5 1478,-1047.5 1472,-1047.5\"/>\r\n",
       "<text text-anchor=\"start\" x=\"1389.5\" y=\"-1032.3\" font-family=\"Helvetica,sans-Serif\" font-size=\"14.00\">entropy = 0.0</text>\r\n",
       "<text text-anchor=\"start\" x=\"1388\" y=\"-1017.3\" font-family=\"Helvetica,sans-Serif\" font-size=\"14.00\">samples = 10</text>\r\n",
       "<text text-anchor=\"start\" x=\"1387\" y=\"-1002.3\" font-family=\"Helvetica,sans-Serif\" font-size=\"14.00\">value = [0, 10]</text>\r\n",
       "</g>\r\n",
       "<!-- 2&#45;&gt;8 -->\r\n",
       "<g id=\"edge56\" class=\"edge\"><title>2&#45;&gt;8</title>\r\n",
       "<path fill=\"none\" stroke=\"black\" d=\"M1341.27,-1088.99C1356.43,-1077.73 1373.58,-1065 1388.83,-1053.68\"/>\r\n",
       "<polygon fill=\"black\" stroke=\"black\" points=\"1391.13,-1056.33 1397.08,-1047.56 1386.96,-1050.71 1391.13,-1056.33\"/>\r\n",
       "</g>\r\n",
       "<!-- 27 -->\r\n",
       "<g id=\"node43\" class=\"node\"><title>27</title>\r\n",
       "<path fill=\"#e6853f\" stroke=\"black\" d=\"M1348.5,-953C1348.5,-953 1250.5,-953 1250.5,-953 1244.5,-953 1238.5,-947 1238.5,-941 1238.5,-941 1238.5,-901 1238.5,-901 1238.5,-895 1244.5,-889 1250.5,-889 1250.5,-889 1348.5,-889 1348.5,-889 1354.5,-889 1360.5,-895 1360.5,-901 1360.5,-901 1360.5,-941 1360.5,-941 1360.5,-947 1354.5,-953 1348.5,-953\"/>\r\n",
       "<text text-anchor=\"start\" x=\"1269.5\" y=\"-938.8\" font-family=\"Helvetica,sans-Serif\" font-size=\"14.00\">X</text>\r\n",
       "<text text-anchor=\"start\" x=\"1279.5\" y=\"-938.8\" font-family=\"Helvetica,sans-Serif\" baseline-shift=\"sub\" font-size=\"14.00\">20</text>\r\n",
       "<text text-anchor=\"start\" x=\"1293.5\" y=\"-938.8\" font-family=\"Helvetica,sans-Serif\" font-size=\"14.00\"> ≤ 0.5</text>\r\n",
       "<text text-anchor=\"start\" x=\"1249.5\" y=\"-924.8\" font-family=\"Helvetica,sans-Serif\" font-size=\"14.00\">entropy = 0.197</text>\r\n",
       "<text text-anchor=\"start\" x=\"1252\" y=\"-910.8\" font-family=\"Helvetica,sans-Serif\" font-size=\"14.00\">samples = 360</text>\r\n",
       "<text text-anchor=\"start\" x=\"1246.5\" y=\"-896.8\" font-family=\"Helvetica,sans-Serif\" font-size=\"14.00\">value = [349, 11]</text>\r\n",
       "</g>\r\n",
       "<!-- 7&#45;&gt;27 -->\r\n",
       "<g id=\"edge42\" class=\"edge\"><title>7&#45;&gt;27</title>\r\n",
       "<path fill=\"none\" stroke=\"black\" d=\"M1299.5,-988.992C1299.5,-980.859 1299.5,-971.959 1299.5,-963.378\"/>\r\n",
       "<polygon fill=\"black\" stroke=\"black\" points=\"1303,-963.142 1299.5,-953.142 1296,-963.142 1303,-963.142\"/>\r\n",
       "</g>\r\n",
       "<!-- 28 -->\r\n",
       "<g id=\"node56\" class=\"node\"><title>28</title>\r\n",
       "<path fill=\"#399de5\" stroke=\"black\" d=\"M1466.5,-947.5C1466.5,-947.5 1390.5,-947.5 1390.5,-947.5 1384.5,-947.5 1378.5,-941.5 1378.5,-935.5 1378.5,-935.5 1378.5,-906.5 1378.5,-906.5 1378.5,-900.5 1384.5,-894.5 1390.5,-894.5 1390.5,-894.5 1466.5,-894.5 1466.5,-894.5 1472.5,-894.5 1478.5,-900.5 1478.5,-906.5 1478.5,-906.5 1478.5,-935.5 1478.5,-935.5 1478.5,-941.5 1472.5,-947.5 1466.5,-947.5\"/>\r\n",
       "<text text-anchor=\"start\" x=\"1386.5\" y=\"-932.3\" font-family=\"Helvetica,sans-Serif\" font-size=\"14.00\">entropy = 0.0</text>\r\n",
       "<text text-anchor=\"start\" x=\"1389\" y=\"-917.3\" font-family=\"Helvetica,sans-Serif\" font-size=\"14.00\">samples = 4</text>\r\n",
       "<text text-anchor=\"start\" x=\"1388\" y=\"-902.3\" font-family=\"Helvetica,sans-Serif\" font-size=\"14.00\">value = [0, 4]</text>\r\n",
       "</g>\r\n",
       "<!-- 7&#45;&gt;28 -->\r\n",
       "<g id=\"edge55\" class=\"edge\"><title>7&#45;&gt;28</title>\r\n",
       "<path fill=\"none\" stroke=\"black\" d=\"M1340.32,-988.992C1355.14,-977.731 1371.9,-964.998 1386.8,-953.68\"/>\r\n",
       "<polygon fill=\"black\" stroke=\"black\" points=\"1389.01,-956.393 1394.86,-947.556 1384.78,-950.819 1389.01,-956.393\"/>\r\n",
       "</g>\r\n",
       "<!-- 29 -->\r\n",
       "<g id=\"node44\" class=\"node\"><title>29</title>\r\n",
       "<path fill=\"#e6843d\" stroke=\"black\" d=\"M1344,-853C1344,-853 1255,-853 1255,-853 1249,-853 1243,-847 1243,-841 1243,-841 1243,-801 1243,-801 1243,-795 1249,-789 1255,-789 1255,-789 1344,-789 1344,-789 1350,-789 1356,-795 1356,-801 1356,-801 1356,-841 1356,-841 1356,-847 1350,-853 1344,-853\"/>\r\n",
       "<text text-anchor=\"start\" x=\"1269.5\" y=\"-838.8\" font-family=\"Helvetica,sans-Serif\" font-size=\"14.00\">X</text>\r\n",
       "<text text-anchor=\"start\" x=\"1279.5\" y=\"-838.8\" font-family=\"Helvetica,sans-Serif\" baseline-shift=\"sub\" font-size=\"14.00\">29</text>\r\n",
       "<text text-anchor=\"start\" x=\"1293.5\" y=\"-838.8\" font-family=\"Helvetica,sans-Serif\" font-size=\"14.00\"> ≤ 0.5</text>\r\n",
       "<text text-anchor=\"start\" x=\"1253.5\" y=\"-824.8\" font-family=\"Helvetica,sans-Serif\" font-size=\"14.00\">entropy = 0.14</text>\r\n",
       "<text text-anchor=\"start\" x=\"1252\" y=\"-810.8\" font-family=\"Helvetica,sans-Serif\" font-size=\"14.00\">samples = 356</text>\r\n",
       "<text text-anchor=\"start\" x=\"1251\" y=\"-796.8\" font-family=\"Helvetica,sans-Serif\" font-size=\"14.00\">value = [349, 7]</text>\r\n",
       "</g>\r\n",
       "<!-- 27&#45;&gt;29 -->\r\n",
       "<g id=\"edge43\" class=\"edge\"><title>27&#45;&gt;29</title>\r\n",
       "<path fill=\"none\" stroke=\"black\" d=\"M1299.5,-888.992C1299.5,-880.859 1299.5,-871.959 1299.5,-863.378\"/>\r\n",
       "<polygon fill=\"black\" stroke=\"black\" points=\"1303,-863.142 1299.5,-853.142 1296,-863.142 1303,-863.142\"/>\r\n",
       "</g>\r\n",
       "<!-- 30 -->\r\n",
       "<g id=\"node55\" class=\"node\"><title>30</title>\r\n",
       "<path fill=\"#399de5\" stroke=\"black\" d=\"M1462.5,-847.5C1462.5,-847.5 1386.5,-847.5 1386.5,-847.5 1380.5,-847.5 1374.5,-841.5 1374.5,-835.5 1374.5,-835.5 1374.5,-806.5 1374.5,-806.5 1374.5,-800.5 1380.5,-794.5 1386.5,-794.5 1386.5,-794.5 1462.5,-794.5 1462.5,-794.5 1468.5,-794.5 1474.5,-800.5 1474.5,-806.5 1474.5,-806.5 1474.5,-835.5 1474.5,-835.5 1474.5,-841.5 1468.5,-847.5 1462.5,-847.5\"/>\r\n",
       "<text text-anchor=\"start\" x=\"1382.5\" y=\"-832.3\" font-family=\"Helvetica,sans-Serif\" font-size=\"14.00\">entropy = 0.0</text>\r\n",
       "<text text-anchor=\"start\" x=\"1385\" y=\"-817.3\" font-family=\"Helvetica,sans-Serif\" font-size=\"14.00\">samples = 4</text>\r\n",
       "<text text-anchor=\"start\" x=\"1384\" y=\"-802.3\" font-family=\"Helvetica,sans-Serif\" font-size=\"14.00\">value = [0, 4]</text>\r\n",
       "</g>\r\n",
       "<!-- 27&#45;&gt;30 -->\r\n",
       "<g id=\"edge54\" class=\"edge\"><title>27&#45;&gt;30</title>\r\n",
       "<path fill=\"none\" stroke=\"black\" d=\"M1339.05,-888.992C1353.28,-877.836 1369.35,-865.234 1383.69,-853.995\"/>\r\n",
       "<polygon fill=\"black\" stroke=\"black\" points=\"1386.19,-856.481 1391.9,-847.556 1381.87,-850.972 1386.19,-856.481\"/>\r\n",
       "</g>\r\n",
       "<!-- 33 -->\r\n",
       "<g id=\"node45\" class=\"node\"><title>33</title>\r\n",
       "<path fill=\"#e5833c\" stroke=\"black\" d=\"M1219.5,-753C1219.5,-753 1127.5,-753 1127.5,-753 1121.5,-753 1115.5,-747 1115.5,-741 1115.5,-741 1115.5,-701 1115.5,-701 1115.5,-695 1121.5,-689 1127.5,-689 1127.5,-689 1219.5,-689 1219.5,-689 1225.5,-689 1231.5,-695 1231.5,-701 1231.5,-701 1231.5,-741 1231.5,-741 1231.5,-747 1225.5,-753 1219.5,-753\"/>\r\n",
       "<text text-anchor=\"start\" x=\"1143.5\" y=\"-738.8\" font-family=\"Helvetica,sans-Serif\" font-size=\"14.00\">X</text>\r\n",
       "<text text-anchor=\"start\" x=\"1153.5\" y=\"-738.8\" font-family=\"Helvetica,sans-Serif\" baseline-shift=\"sub\" font-size=\"14.00\">31</text>\r\n",
       "<text text-anchor=\"start\" x=\"1167.5\" y=\"-738.8\" font-family=\"Helvetica,sans-Serif\" font-size=\"14.00\"> ≤ 0.5</text>\r\n",
       "<text text-anchor=\"start\" x=\"1123.5\" y=\"-724.8\" font-family=\"Helvetica,sans-Serif\" font-size=\"14.00\">entropy = 0.107</text>\r\n",
       "<text text-anchor=\"start\" x=\"1126\" y=\"-710.8\" font-family=\"Helvetica,sans-Serif\" font-size=\"14.00\">samples = 354</text>\r\n",
       "<text text-anchor=\"start\" x=\"1125\" y=\"-696.8\" font-family=\"Helvetica,sans-Serif\" font-size=\"14.00\">value = [349, 5]</text>\r\n",
       "</g>\r\n",
       "<!-- 29&#45;&gt;33 -->\r\n",
       "<g id=\"edge44\" class=\"edge\"><title>29&#45;&gt;33</title>\r\n",
       "<path fill=\"none\" stroke=\"black\" d=\"M1259.63,-788.992C1247.57,-779.608 1234.19,-769.202 1221.64,-759.444\"/>\r\n",
       "<polygon fill=\"black\" stroke=\"black\" points=\"1223.58,-756.519 1213.54,-753.142 1219.29,-762.045 1223.58,-756.519\"/>\r\n",
       "</g>\r\n",
       "<!-- 34 -->\r\n",
       "<g id=\"node54\" class=\"node\"><title>34</title>\r\n",
       "<path fill=\"#399de5\" stroke=\"black\" d=\"M1337.5,-747.5C1337.5,-747.5 1261.5,-747.5 1261.5,-747.5 1255.5,-747.5 1249.5,-741.5 1249.5,-735.5 1249.5,-735.5 1249.5,-706.5 1249.5,-706.5 1249.5,-700.5 1255.5,-694.5 1261.5,-694.5 1261.5,-694.5 1337.5,-694.5 1337.5,-694.5 1343.5,-694.5 1349.5,-700.5 1349.5,-706.5 1349.5,-706.5 1349.5,-735.5 1349.5,-735.5 1349.5,-741.5 1343.5,-747.5 1337.5,-747.5\"/>\r\n",
       "<text text-anchor=\"start\" x=\"1257.5\" y=\"-732.3\" font-family=\"Helvetica,sans-Serif\" font-size=\"14.00\">entropy = 0.0</text>\r\n",
       "<text text-anchor=\"start\" x=\"1260\" y=\"-717.3\" font-family=\"Helvetica,sans-Serif\" font-size=\"14.00\">samples = 2</text>\r\n",
       "<text text-anchor=\"start\" x=\"1259\" y=\"-702.3\" font-family=\"Helvetica,sans-Serif\" font-size=\"14.00\">value = [0, 2]</text>\r\n",
       "</g>\r\n",
       "<!-- 29&#45;&gt;34 -->\r\n",
       "<g id=\"edge53\" class=\"edge\"><title>29&#45;&gt;34</title>\r\n",
       "<path fill=\"none\" stroke=\"black\" d=\"M1299.5,-788.992C1299.5,-779.087 1299.5,-768.042 1299.5,-757.824\"/>\r\n",
       "<polygon fill=\"black\" stroke=\"black\" points=\"1303,-757.556 1299.5,-747.556 1296,-757.556 1303,-757.556\"/>\r\n",
       "</g>\r\n",
       "<!-- 35 -->\r\n",
       "<g id=\"node46\" class=\"node\"><title>35</title>\r\n",
       "<path fill=\"#e5823b\" stroke=\"black\" d=\"M1095.5,-653C1095.5,-653 1003.5,-653 1003.5,-653 997.5,-653 991.5,-647 991.5,-641 991.5,-641 991.5,-601 991.5,-601 991.5,-595 997.5,-589 1003.5,-589 1003.5,-589 1095.5,-589 1095.5,-589 1101.5,-589 1107.5,-595 1107.5,-601 1107.5,-601 1107.5,-641 1107.5,-641 1107.5,-647 1101.5,-653 1095.5,-653\"/>\r\n",
       "<text text-anchor=\"start\" x=\"1019.5\" y=\"-638.8\" font-family=\"Helvetica,sans-Serif\" font-size=\"14.00\">X</text>\r\n",
       "<text text-anchor=\"start\" x=\"1029.5\" y=\"-638.8\" font-family=\"Helvetica,sans-Serif\" baseline-shift=\"sub\" font-size=\"14.00\">35</text>\r\n",
       "<text text-anchor=\"start\" x=\"1043.5\" y=\"-638.8\" font-family=\"Helvetica,sans-Serif\" font-size=\"14.00\"> ≤ 0.5</text>\r\n",
       "<text text-anchor=\"start\" x=\"999.5\" y=\"-624.8\" font-family=\"Helvetica,sans-Serif\" font-size=\"14.00\">entropy = 0.071</text>\r\n",
       "<text text-anchor=\"start\" x=\"1002\" y=\"-610.8\" font-family=\"Helvetica,sans-Serif\" font-size=\"14.00\">samples = 352</text>\r\n",
       "<text text-anchor=\"start\" x=\"1001\" y=\"-596.8\" font-family=\"Helvetica,sans-Serif\" font-size=\"14.00\">value = [349, 3]</text>\r\n",
       "</g>\r\n",
       "<!-- 33&#45;&gt;35 -->\r\n",
       "<g id=\"edge45\" class=\"edge\"><title>33&#45;&gt;35</title>\r\n",
       "<path fill=\"none\" stroke=\"black\" d=\"M1134.27,-688.992C1122.39,-679.608 1109.22,-669.202 1096.88,-659.444\"/>\r\n",
       "<polygon fill=\"black\" stroke=\"black\" points=\"1098.92,-656.597 1088.9,-653.142 1094.58,-662.089 1098.92,-656.597\"/>\r\n",
       "</g>\r\n",
       "<!-- 36 -->\r\n",
       "<g id=\"node53\" class=\"node\"><title>36</title>\r\n",
       "<path fill=\"#399de5\" stroke=\"black\" d=\"M1213.5,-647.5C1213.5,-647.5 1137.5,-647.5 1137.5,-647.5 1131.5,-647.5 1125.5,-641.5 1125.5,-635.5 1125.5,-635.5 1125.5,-606.5 1125.5,-606.5 1125.5,-600.5 1131.5,-594.5 1137.5,-594.5 1137.5,-594.5 1213.5,-594.5 1213.5,-594.5 1219.5,-594.5 1225.5,-600.5 1225.5,-606.5 1225.5,-606.5 1225.5,-635.5 1225.5,-635.5 1225.5,-641.5 1219.5,-647.5 1213.5,-647.5\"/>\r\n",
       "<text text-anchor=\"start\" x=\"1133.5\" y=\"-632.3\" font-family=\"Helvetica,sans-Serif\" font-size=\"14.00\">entropy = 0.0</text>\r\n",
       "<text text-anchor=\"start\" x=\"1136\" y=\"-617.3\" font-family=\"Helvetica,sans-Serif\" font-size=\"14.00\">samples = 2</text>\r\n",
       "<text text-anchor=\"start\" x=\"1135\" y=\"-602.3\" font-family=\"Helvetica,sans-Serif\" font-size=\"14.00\">value = [0, 2]</text>\r\n",
       "</g>\r\n",
       "<!-- 33&#45;&gt;36 -->\r\n",
       "<g id=\"edge52\" class=\"edge\"><title>33&#45;&gt;36</title>\r\n",
       "<path fill=\"none\" stroke=\"black\" d=\"M1174.13,-688.992C1174.33,-679.087 1174.56,-668.042 1174.77,-657.824\"/>\r\n",
       "<polygon fill=\"black\" stroke=\"black\" points=\"1178.27,-657.626 1174.98,-647.556 1171.28,-657.483 1178.27,-657.626\"/>\r\n",
       "</g>\r\n",
       "<!-- 41 -->\r\n",
       "<g id=\"node47\" class=\"node\"><title>41</title>\r\n",
       "<path fill=\"#e5823a\" stroke=\"black\" d=\"M970.5,-553C970.5,-553 878.5,-553 878.5,-553 872.5,-553 866.5,-547 866.5,-541 866.5,-541 866.5,-501 866.5,-501 866.5,-495 872.5,-489 878.5,-489 878.5,-489 970.5,-489 970.5,-489 976.5,-489 982.5,-495 982.5,-501 982.5,-501 982.5,-541 982.5,-541 982.5,-547 976.5,-553 970.5,-553\"/>\r\n",
       "<text text-anchor=\"start\" x=\"894.5\" y=\"-538.8\" font-family=\"Helvetica,sans-Serif\" font-size=\"14.00\">X</text>\r\n",
       "<text text-anchor=\"start\" x=\"904.5\" y=\"-538.8\" font-family=\"Helvetica,sans-Serif\" baseline-shift=\"sub\" font-size=\"14.00\">24</text>\r\n",
       "<text text-anchor=\"start\" x=\"918.5\" y=\"-538.8\" font-family=\"Helvetica,sans-Serif\" font-size=\"14.00\"> ≤ 0.5</text>\r\n",
       "<text text-anchor=\"start\" x=\"874.5\" y=\"-524.8\" font-family=\"Helvetica,sans-Serif\" font-size=\"14.00\">entropy = 0.051</text>\r\n",
       "<text text-anchor=\"start\" x=\"877\" y=\"-510.8\" font-family=\"Helvetica,sans-Serif\" font-size=\"14.00\">samples = 351</text>\r\n",
       "<text text-anchor=\"start\" x=\"876\" y=\"-496.8\" font-family=\"Helvetica,sans-Serif\" font-size=\"14.00\">value = [349, 2]</text>\r\n",
       "</g>\r\n",
       "<!-- 35&#45;&gt;41 -->\r\n",
       "<g id=\"edge46\" class=\"edge\"><title>35&#45;&gt;41</title>\r\n",
       "<path fill=\"none\" stroke=\"black\" d=\"M1009.95,-588.992C997.98,-579.608 984.706,-569.202 972.26,-559.444\"/>\r\n",
       "<polygon fill=\"black\" stroke=\"black\" points=\"974.252,-556.558 964.223,-553.142 969.933,-562.067 974.252,-556.558\"/>\r\n",
       "</g>\r\n",
       "<!-- 42 -->\r\n",
       "<g id=\"node52\" class=\"node\"><title>42</title>\r\n",
       "<path fill=\"#399de5\" stroke=\"black\" d=\"M1088.5,-547.5C1088.5,-547.5 1012.5,-547.5 1012.5,-547.5 1006.5,-547.5 1000.5,-541.5 1000.5,-535.5 1000.5,-535.5 1000.5,-506.5 1000.5,-506.5 1000.5,-500.5 1006.5,-494.5 1012.5,-494.5 1012.5,-494.5 1088.5,-494.5 1088.5,-494.5 1094.5,-494.5 1100.5,-500.5 1100.5,-506.5 1100.5,-506.5 1100.5,-535.5 1100.5,-535.5 1100.5,-541.5 1094.5,-547.5 1088.5,-547.5\"/>\r\n",
       "<text text-anchor=\"start\" x=\"1008.5\" y=\"-532.3\" font-family=\"Helvetica,sans-Serif\" font-size=\"14.00\">entropy = 0.0</text>\r\n",
       "<text text-anchor=\"start\" x=\"1011\" y=\"-517.3\" font-family=\"Helvetica,sans-Serif\" font-size=\"14.00\">samples = 1</text>\r\n",
       "<text text-anchor=\"start\" x=\"1010\" y=\"-502.3\" font-family=\"Helvetica,sans-Serif\" font-size=\"14.00\">value = [0, 1]</text>\r\n",
       "</g>\r\n",
       "<!-- 35&#45;&gt;42 -->\r\n",
       "<g id=\"edge51\" class=\"edge\"><title>35&#45;&gt;42</title>\r\n",
       "<path fill=\"none\" stroke=\"black\" d=\"M1049.82,-588.992C1049.92,-579.087 1050.03,-568.042 1050.13,-557.824\"/>\r\n",
       "<polygon fill=\"black\" stroke=\"black\" points=\"1053.64,-557.592 1050.24,-547.556 1046.64,-557.52 1053.64,-557.592\"/>\r\n",
       "</g>\r\n",
       "<!-- 43 -->\r\n",
       "<g id=\"node48\" class=\"node\"><title>43</title>\r\n",
       "<path fill=\"#e5813a\" stroke=\"black\" d=\"M851.5,-453C851.5,-453 759.5,-453 759.5,-453 753.5,-453 747.5,-447 747.5,-441 747.5,-441 747.5,-401 747.5,-401 747.5,-395 753.5,-389 759.5,-389 759.5,-389 851.5,-389 851.5,-389 857.5,-389 863.5,-395 863.5,-401 863.5,-401 863.5,-441 863.5,-441 863.5,-447 857.5,-453 851.5,-453\"/>\r\n",
       "<text text-anchor=\"start\" x=\"775.5\" y=\"-438.8\" font-family=\"Helvetica,sans-Serif\" font-size=\"14.00\">X</text>\r\n",
       "<text text-anchor=\"start\" x=\"785.5\" y=\"-438.8\" font-family=\"Helvetica,sans-Serif\" baseline-shift=\"sub\" font-size=\"14.00\">34</text>\r\n",
       "<text text-anchor=\"start\" x=\"799.5\" y=\"-438.8\" font-family=\"Helvetica,sans-Serif\" font-size=\"14.00\"> ≤ 0.5</text>\r\n",
       "<text text-anchor=\"start\" x=\"755.5\" y=\"-424.8\" font-family=\"Helvetica,sans-Serif\" font-size=\"14.00\">entropy = 0.028</text>\r\n",
       "<text text-anchor=\"start\" x=\"758\" y=\"-410.8\" font-family=\"Helvetica,sans-Serif\" font-size=\"14.00\">samples = 350</text>\r\n",
       "<text text-anchor=\"start\" x=\"757\" y=\"-396.8\" font-family=\"Helvetica,sans-Serif\" font-size=\"14.00\">value = [349, 1]</text>\r\n",
       "</g>\r\n",
       "<!-- 41&#45;&gt;43 -->\r\n",
       "<g id=\"edge47\" class=\"edge\"><title>41&#45;&gt;43</title>\r\n",
       "<path fill=\"none\" stroke=\"black\" d=\"M886.848,-488.992C875.561,-479.698 863.057,-469.4 851.306,-459.723\"/>\r\n",
       "<polygon fill=\"black\" stroke=\"black\" points=\"853.26,-456.798 843.316,-453.142 848.81,-462.201 853.26,-456.798\"/>\r\n",
       "</g>\r\n",
       "<!-- 44 -->\r\n",
       "<g id=\"node51\" class=\"node\"><title>44</title>\r\n",
       "<path fill=\"#399de5\" stroke=\"black\" d=\"M969.5,-447.5C969.5,-447.5 893.5,-447.5 893.5,-447.5 887.5,-447.5 881.5,-441.5 881.5,-435.5 881.5,-435.5 881.5,-406.5 881.5,-406.5 881.5,-400.5 887.5,-394.5 893.5,-394.5 893.5,-394.5 969.5,-394.5 969.5,-394.5 975.5,-394.5 981.5,-400.5 981.5,-406.5 981.5,-406.5 981.5,-435.5 981.5,-435.5 981.5,-441.5 975.5,-447.5 969.5,-447.5\"/>\r\n",
       "<text text-anchor=\"start\" x=\"889.5\" y=\"-432.3\" font-family=\"Helvetica,sans-Serif\" font-size=\"14.00\">entropy = 0.0</text>\r\n",
       "<text text-anchor=\"start\" x=\"892\" y=\"-417.3\" font-family=\"Helvetica,sans-Serif\" font-size=\"14.00\">samples = 1</text>\r\n",
       "<text text-anchor=\"start\" x=\"891\" y=\"-402.3\" font-family=\"Helvetica,sans-Serif\" font-size=\"14.00\">value = [0, 1]</text>\r\n",
       "</g>\r\n",
       "<!-- 41&#45;&gt;44 -->\r\n",
       "<g id=\"edge50\" class=\"edge\"><title>41&#45;&gt;44</title>\r\n",
       "<path fill=\"none\" stroke=\"black\" d=\"M926.715,-488.992C927.422,-479.087 928.211,-468.042 928.941,-457.824\"/>\r\n",
       "<polygon fill=\"black\" stroke=\"black\" points=\"932.453,-457.78 929.675,-447.556 925.471,-457.282 932.453,-457.78\"/>\r\n",
       "</g>\r\n",
       "<!-- 45 -->\r\n",
       "<g id=\"node49\" class=\"node\"><title>45</title>\r\n",
       "<path fill=\"#e58139\" stroke=\"black\" d=\"M816,-347.5C816,-347.5 727,-347.5 727,-347.5 721,-347.5 715,-341.5 715,-335.5 715,-335.5 715,-306.5 715,-306.5 715,-300.5 721,-294.5 727,-294.5 727,-294.5 816,-294.5 816,-294.5 822,-294.5 828,-300.5 828,-306.5 828,-306.5 828,-335.5 828,-335.5 828,-341.5 822,-347.5 816,-347.5\"/>\r\n",
       "<text text-anchor=\"start\" x=\"729.5\" y=\"-332.3\" font-family=\"Helvetica,sans-Serif\" font-size=\"14.00\">entropy = 0.0</text>\r\n",
       "<text text-anchor=\"start\" x=\"724\" y=\"-317.3\" font-family=\"Helvetica,sans-Serif\" font-size=\"14.00\">samples = 349</text>\r\n",
       "<text text-anchor=\"start\" x=\"723\" y=\"-302.3\" font-family=\"Helvetica,sans-Serif\" font-size=\"14.00\">value = [349, 0]</text>\r\n",
       "</g>\r\n",
       "<!-- 43&#45;&gt;45 -->\r\n",
       "<g id=\"edge48\" class=\"edge\"><title>43&#45;&gt;45</title>\r\n",
       "<path fill=\"none\" stroke=\"black\" d=\"M794.742,-388.992C791.233,-378.878 787.312,-367.577 783.705,-357.18\"/>\r\n",
       "<polygon fill=\"black\" stroke=\"black\" points=\"786.951,-355.857 780.367,-347.556 780.338,-358.151 786.951,-355.857\"/>\r\n",
       "</g>\r\n",
       "<!-- 46 -->\r\n",
       "<g id=\"node50\" class=\"node\"><title>46</title>\r\n",
       "<path fill=\"#399de5\" stroke=\"black\" d=\"M934.5,-347.5C934.5,-347.5 858.5,-347.5 858.5,-347.5 852.5,-347.5 846.5,-341.5 846.5,-335.5 846.5,-335.5 846.5,-306.5 846.5,-306.5 846.5,-300.5 852.5,-294.5 858.5,-294.5 858.5,-294.5 934.5,-294.5 934.5,-294.5 940.5,-294.5 946.5,-300.5 946.5,-306.5 946.5,-306.5 946.5,-335.5 946.5,-335.5 946.5,-341.5 940.5,-347.5 934.5,-347.5\"/>\r\n",
       "<text text-anchor=\"start\" x=\"854.5\" y=\"-332.3\" font-family=\"Helvetica,sans-Serif\" font-size=\"14.00\">entropy = 0.0</text>\r\n",
       "<text text-anchor=\"start\" x=\"857\" y=\"-317.3\" font-family=\"Helvetica,sans-Serif\" font-size=\"14.00\">samples = 1</text>\r\n",
       "<text text-anchor=\"start\" x=\"856\" y=\"-302.3\" font-family=\"Helvetica,sans-Serif\" font-size=\"14.00\">value = [0, 1]</text>\r\n",
       "</g>\r\n",
       "<!-- 43&#45;&gt;46 -->\r\n",
       "<g id=\"edge49\" class=\"edge\"><title>43&#45;&gt;46</title>\r\n",
       "<path fill=\"none\" stroke=\"black\" d=\"M834.293,-388.992C844.362,-378.148 855.699,-365.94 865.91,-354.944\"/>\r\n",
       "<polygon fill=\"black\" stroke=\"black\" points=\"868.529,-357.266 872.769,-347.556 863.4,-352.503 868.529,-357.266\"/>\r\n",
       "</g>\r\n",
       "</g>\r\n",
       "</svg>\r\n"
      ],
      "text/plain": [
       "<graphviz.files.Source at 0x2a810157048>"
      ]
     },
     "execution_count": 45,
     "metadata": {},
     "output_type": "execute_result"
    }
   ],
   "source": [
    "import graphviz\n",
    "from sklearn import tree\n",
    "dot_data = tree.export_graphviz(clf_dt, out_file=None, \n",
    "                        filled=True, rounded=True, special_characters=True)  \n",
    "graph = graphviz.Source(dot_data)  \n",
    "graph "
   ]
  },
  {
   "cell_type": "markdown",
   "metadata": {},
   "source": [
    "### Model Selection\n",
    "\n",
    "The Decision Tree model we built performs extremely well with 98.5% accuracy and is the one we decided to go with as our final model."
   ]
  }
 ],
 "metadata": {
  "kernelspec": {
   "display_name": "Python 3",
   "language": "python",
   "name": "python3"
  },
  "language_info": {
   "codemirror_mode": {
    "name": "ipython",
    "version": 3
   },
   "file_extension": ".py",
   "mimetype": "text/x-python",
   "name": "python",
   "nbconvert_exporter": "python",
   "pygments_lexer": "ipython3",
   "version": "3.7.7"
  },
  "varInspector": {
   "cols": {
    "lenName": 16,
    "lenType": 16,
    "lenVar": 40
   },
   "kernels_config": {
    "python": {
     "delete_cmd_postfix": "",
     "delete_cmd_prefix": "del ",
     "library": "var_list.py",
     "varRefreshCmd": "print(var_dic_list())"
    },
    "r": {
     "delete_cmd_postfix": ") ",
     "delete_cmd_prefix": "rm(",
     "library": "var_list.r",
     "varRefreshCmd": "cat(var_dic_list()) "
    }
   },
   "position": {
    "height": "144.716px",
    "left": "1374.45px",
    "right": "20px",
    "top": "120px",
    "width": "350px"
   },
   "types_to_exclude": [
    "module",
    "function",
    "builtin_function_or_method",
    "instance",
    "_Feature"
   ],
   "window_display": true
  }
 },
 "nbformat": 4,
 "nbformat_minor": 4
}
